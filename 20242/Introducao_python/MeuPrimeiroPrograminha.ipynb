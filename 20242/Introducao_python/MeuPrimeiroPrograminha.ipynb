{
  "nbformat": 4,
  "nbformat_minor": 0,
  "metadata": {
    "colab": {
      "provenance": [],
      "authorship_tag": "ABX9TyOcUIrso8ze4XY8t3dYEo6d",
      "include_colab_link": true
    },
    "kernelspec": {
      "name": "python3",
      "display_name": "Python 3"
    },
    "language_info": {
      "name": "python"
    }
  },
  "cells": [
    {
      "cell_type": "markdown",
      "metadata": {
        "id": "view-in-github",
        "colab_type": "text"
      },
      "source": [
        "<a href=\"https://colab.research.google.com/github/gnrochabr/Lab_program_Python/blob/main/MeuPrimeiroPrograminha.ipynb\" target=\"_parent\"><img src=\"https://colab.research.google.com/assets/colab-badge.svg\" alt=\"Open In Colab\"/></a>"
      ]
    },
    {
      "cell_type": "code",
      "execution_count": null,
      "metadata": {
        "colab": {
          "base_uri": "https://localhost:8080/"
        },
        "id": "wO4tL3HrJZnF",
        "outputId": "3c33d648-27e8-4b02-a731-8528d7a2c4c9"
      },
      "outputs": [
        {
          "output_type": "stream",
          "name": "stdout",
          "text": [
            "Digite o primeiro número: 10\n",
            "Digite o segundo número: 2\n",
            "A soma é 12 e a subtração 8\n",
            "Hello World\n"
          ]
        }
      ],
      "source": [
        "b = int(input('Digite o primeiro número: '))\n",
        "c = int(input('Digite o segundo número: '))\n",
        "print(f'A soma é {b + c} e a subtração {b-c}')\n",
        "print('Hello World')"
      ]
    },
    {
      "cell_type": "code",
      "source": [
        "#1 - Crie um programa em python que faça a leitura de dois números e realize a sua soma.\n",
        "num_1 = int(input(\"Digite o primeiro numero: \"))\n",
        "num_2 = int(input(\"Digite o segundo numero: \"))\n",
        "print(f\"A soma de {num_1} e {num_2} é {num_1+num_2}\")"
      ],
      "metadata": {
        "colab": {
          "base_uri": "https://localhost:8080/"
        },
        "id": "KVzGNuXHoU5l",
        "outputId": "35c818bc-411a-4cc7-825e-7596a54ca43b"
      },
      "execution_count": 1,
      "outputs": [
        {
          "output_type": "stream",
          "name": "stdout",
          "text": [
            "Digite o primeiro numero: 5\n",
            "Digite o segundo numero: 7\n",
            "A soma de 5 e 7 é 12\n"
          ]
        }
      ]
    },
    {
      "cell_type": "code",
      "source": [
        "#2 - Crie um programa em python que calcule o dobro de um número digitado pelo usuário.\n",
        "num = int(input(\"Digite um numero a ser dobrado: \"))\n",
        "print(f\"O dobro de {num} é {2*num}\")"
      ],
      "metadata": {
        "colab": {
          "base_uri": "https://localhost:8080/"
        },
        "id": "Kkl0Zu5QpaTp",
        "outputId": "19556da6-e2ee-4d01-eb00-bd003e62cb59"
      },
      "execution_count": 2,
      "outputs": [
        {
          "output_type": "stream",
          "name": "stdout",
          "text": [
            "Digite um numero a ser dobrado: 10\n",
            "O dobro de 10 é 20\n"
          ]
        }
      ]
    },
    {
      "cell_type": "code",
      "source": [
        "#3 - Crie um programa em python que faça uma frase customizada com o nome e idade digitados pelo usuário.\n",
        "nome = input(\"Digite seu nome:\")\n",
        "idade = int(input(\"Digite sua idade:\"))\n",
        "print(f\"Seu nome é {nome} e sua idade é {idade}\")"
      ],
      "metadata": {
        "colab": {
          "base_uri": "https://localhost:8080/"
        },
        "id": "dwbVxsLxpybS",
        "outputId": "6c5d304b-4f91-45f7-f5b4-93a49743ba56"
      },
      "execution_count": 3,
      "outputs": [
        {
          "output_type": "stream",
          "name": "stdout",
          "text": [
            "Digite seu nome:Gustavo\n",
            "Digite sua idade:35\n",
            "Seu nome é Gustavo e sua idade é 35\n"
          ]
        }
      ]
    },
    {
      "cell_type": "code",
      "source": [
        "#4 - Crie um programa em python que faça a leitura de três notas e mostre a média de notas.\n",
        "nota1 = float(input(\"Digite a primeira nota: \"))\n",
        "nota2 = float(input(\"Digite a segunda nota:\"))\n",
        "nota3 = float(input(\"Digite a terceira nota:\"))\n",
        "print(f\"A média de notas é {(nota1+nota2+nota3)/3}\")"
      ],
      "metadata": {
        "colab": {
          "base_uri": "https://localhost:8080/"
        },
        "id": "2roaz28zqVjT",
        "outputId": "79da8f75-e956-480b-b45b-8f7673e92064"
      },
      "execution_count": 6,
      "outputs": [
        {
          "output_type": "stream",
          "name": "stdout",
          "text": [
            "Digite a primeira nota: 9.5\n",
            "Digite a segunda nota:9\n",
            "Digite a terceira nota:10\n",
            "A média de notas é 9.5\n"
          ]
        }
      ]
    },
    {
      "cell_type": "code",
      "source": [
        "#5 - Crie um programa em python que calcule a divisao de dois numeros.\n",
        "numa=int(input(\"Digite o primeiro numero: \"))\n",
        "numb=int(input(\"Digite o segundo numero: \"))\n",
        "print(f\"A divisao dos numeros é {numa/numb}\")"
      ],
      "metadata": {
        "colab": {
          "base_uri": "https://localhost:8080/"
        },
        "id": "Jf1H-pworGZW",
        "outputId": "d61d401c-e1c4-4061-c9e6-ed2a3f8409d8"
      },
      "execution_count": 7,
      "outputs": [
        {
          "output_type": "stream",
          "name": "stdout",
          "text": [
            "Digite o primeiro numero: 10\n",
            "Digite o segundo numero: 5\n",
            "A divisao dos numeros é 2.0\n"
          ]
        }
      ]
    }
  ]
}