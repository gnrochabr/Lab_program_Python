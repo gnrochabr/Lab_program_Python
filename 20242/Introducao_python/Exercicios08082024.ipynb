{
  "nbformat": 4,
  "nbformat_minor": 0,
  "metadata": {
    "colab": {
      "provenance": [],
      "authorship_tag": "ABX9TyNUbjChC1w2ZoO0L1G+ve0Y",
      "include_colab_link": true
    },
    "kernelspec": {
      "name": "python3",
      "display_name": "Python 3"
    },
    "language_info": {
      "name": "python"
    }
  },
  "cells": [
    {
      "cell_type": "markdown",
      "metadata": {
        "id": "view-in-github",
        "colab_type": "text"
      },
      "source": [
        "<a href=\"https://colab.research.google.com/github/gnrochabr/Lab_program_Python/blob/main/20242/Introducao_python/Exercicios08082024.ipynb\" target=\"_parent\"><img src=\"https://colab.research.google.com/assets/colab-badge.svg\" alt=\"Open In Colab\"/></a>"
      ]
    },
    {
      "cell_type": "code",
      "execution_count": null,
      "metadata": {
        "colab": {
          "base_uri": "https://localhost:8080/"
        },
        "id": "L_FGGIOyrdIH",
        "outputId": "0d7fda23-931c-46ca-cb28-80d89ba21da6"
      },
      "outputs": [
        {
          "output_type": "stream",
          "name": "stdout",
          "text": [
            "Digite o seu nome:Gustavo\n",
            "Digite a sua cidade:Vila Velha\n",
            "Seu nome é Gustavo e sua cidade é Vila Velha\n"
          ]
        }
      ],
      "source": [
        "# 1 - Digite o seu nome e a sua cidade. O programa deve exibir \"Olá, [nome]! Você vive em [cidade].“\n",
        "nome = input(\"Digite o seu nome:\")\n",
        "cidade = input(\"Digite a sua cidade:\")\n",
        "print(f\"Seu nome é {nome} e sua cidade é {cidade}\")"
      ]
    },
    {
      "cell_type": "code",
      "source": [
        "#2 - Digite o comprimento e a largura de um retângulo. O programa deve exibir a área e o perímetro do retângulo.\n",
        "base = float(input(\"Digite o tamanho da base do retangulo (cm):\"))\n",
        "altura = float(input(\"Digite a altura do retangulo (cm):\"))\n",
        "print(f\"A área do retangulo é {(base*altura):.1f} cm e o perimetro é {((base+altura)*2):.1f} cm\")"
      ],
      "metadata": {
        "colab": {
          "base_uri": "https://localhost:8080/"
        },
        "id": "ZvchnpDPsv03",
        "outputId": "c542b309-8f75-41f1-ea9a-30acf3e0c795"
      },
      "execution_count": null,
      "outputs": [
        {
          "output_type": "stream",
          "name": "stdout",
          "text": [
            "Digite o tamanho da base do retangulo (cm):3.3\n",
            "Digite a altura do retangulo (cm):6.4\n",
            "A área do retangulo é 21.1 cm e o perimetro é 19.4 cm\n"
          ]
        }
      ]
    },
    {
      "cell_type": "code",
      "source": [
        "#3 - Digite uma medida em metros. O programa deve converter essa medida para centímetros e milímetros e exibir o resultado.\n",
        "metro = float(input(\"Digite a medida em metros:\"))\n",
        "print(f\"Em centimetros:{(metro*100):.1f} \\nEm milimetros:{(metro*1000):.1f}\")"
      ],
      "metadata": {
        "colab": {
          "base_uri": "https://localhost:8080/"
        },
        "id": "v39mIuJ-uYl6",
        "outputId": "be294ac8-306c-411c-9ff1-a9b0f5aa7f5a"
      },
      "execution_count": null,
      "outputs": [
        {
          "output_type": "stream",
          "name": "stdout",
          "text": [
            "Digite a medida em metros:10\n",
            "Em centimetros:1000.0 \n",
            "Em milimetros:10000.0\n"
          ]
        }
      ]
    },
    {
      "cell_type": "code",
      "source": [
        "# 4 - Digite a largura e a altura de um retângulo. O programa deve calcular e exibir a área do retângulo.base = float(input(\"Digite o tamanho da base do retangulo (cm):\"))\n",
        "altura = float(input(\"Digite a altura do retangulo (cm):\"))\n",
        "print(f\"A área do retangulo é {(base*altura):.1f} cm\")"
      ],
      "metadata": {
        "id": "4EAGCH4ldARN"
      },
      "execution_count": null,
      "outputs": []
    },
    {
      "cell_type": "code",
      "source": [
        "#5 - Digite as idades de duas pessoas. O programa deve exibir se as idades são iguais ou diferentes.\n",
        "idadePessoaA = int(input(\"Digite a idade da pessoa 1:\"))\n",
        "idadePessoaB = int(input(\"Digite a idade da pessoa 2:\"))\n",
        "print(f\"A pessoa 1 tem a mesma idade da pessoa 2? {idadePessoaA == idadePessoaB}\")"
      ],
      "metadata": {
        "colab": {
          "base_uri": "https://localhost:8080/"
        },
        "id": "_8g8ePAsvqsN",
        "outputId": "8de675c7-2a63-4de8-d128-9a40b8930118"
      },
      "execution_count": null,
      "outputs": [
        {
          "output_type": "stream",
          "name": "stdout",
          "text": [
            "Digite a idade da pessoa 1:10\n",
            "Digite a idade da pessoa 2:11\n",
            "A pessoa 1 tem a mesma idade da pessoa 2? False\n"
          ]
        }
      ]
    },
    {
      "cell_type": "code",
      "source": [
        "#6 - Digite seu peso (em kg) e sua altura (em metros). O programa deve calcular e exibir o Índice de Massa Corporal (IMC).\n",
        "peso = float(input(\"Digite seu peso:\"))\n",
        "altura = float(input(\"Digite sua altura:\"))\n",
        "print(f\"Seu IMC é {(peso/(altura*altura)):.1f}\")"
      ],
      "metadata": {
        "colab": {
          "base_uri": "https://localhost:8080/"
        },
        "id": "RTfOhKkAwO5T",
        "outputId": "b1e4d789-1645-498b-a4c1-c26018f7f9c1"
      },
      "execution_count": null,
      "outputs": [
        {
          "output_type": "stream",
          "name": "stdout",
          "text": [
            "Digite seu peso:121\n",
            "Digite sua altura:1.82\n",
            "Seu IMC é 36.5\n"
          ]
        }
      ]
    },
    {
      "cell_type": "code",
      "source": [
        "#7 - Digite dois números. O programa deve exibir se o primeiro número é maior, menor ou igual ao segundo número.\n",
        "numeroA = int(input(\"Digite o 1º número:\"))\n",
        "numeroB = int(input(\"Digite o 2º número:\"))\n",
        "print(f\"Os dois números são:\\nIguais? {numeroA==numeroB}\\nA é o maior? {numeroA>numeroB}\\nB é o maior? {numeroA<numeroB}\\nA é o menor? {numeroA<numeroB}\\nB é o menor? {numeroA>numeroB}\")"
      ],
      "metadata": {
        "colab": {
          "base_uri": "https://localhost:8080/"
        },
        "id": "Had_0fwxxA_5",
        "outputId": "6a73ef29-8194-468d-ab39-fa3dc274b532"
      },
      "execution_count": null,
      "outputs": [
        {
          "output_type": "stream",
          "name": "stdout",
          "text": [
            "Digite o 1º número:10\n",
            "Digite o 2º número:2\n",
            "Os dois números são:\n",
            "Iguais? False\n",
            "A é o maior? True\n",
            "B é o maior? False\n",
            "A é o menor? False\n",
            "B é o menor? True\n"
          ]
        }
      ]
    },
    {
      "cell_type": "code",
      "source": [
        "# 8 - Digite três números. O programa deve calcular e exibir a média aritmética desses números.\n",
        "numeroA = int(input(\"Digite o 1º número:\"))\n",
        "numeroB = int(input(\"Digite o 2º número:\"))\n",
        "numeroC = int(input(\"Digite o 3º número:\"))\n",
        "print(f\"A média dos números é: {(numeroA+numeroB+numeroC)/3}\")"
      ],
      "metadata": {
        "colab": {
          "base_uri": "https://localhost:8080/"
        },
        "id": "TW1Mge6HdX6a",
        "outputId": "6916c162-8bc9-4a53-8266-97f82344495e"
      },
      "execution_count": 1,
      "outputs": [
        {
          "output_type": "stream",
          "name": "stdout",
          "text": [
            "Digite o 1º número:1\n",
            "Digite o 2º número:2\n",
            "Digite o 3º número:3\n",
            "A média dos números é: 2.0\n"
          ]
        }
      ]
    },
    {
      "cell_type": "code",
      "source": [
        "# 9 - Digite o raio e a altura de um cilindro. O programa deve calcular e exibir o volume do cilindro.\n",
        "import math\n",
        "raio = int(input(\"Digite o tamanho do raio do cilindro:\"))\n",
        "altura = int(input(\"Digite a altura do cilindro:\"))\n",
        "print(f\"O volume do cilindro é:{(math.pi * raio ** 2)*altura}\")"
      ],
      "metadata": {
        "id": "JpvPA3TPdaSy"
      },
      "execution_count": null,
      "outputs": []
    },
    {
      "cell_type": "code",
      "source": [
        "# 10 - Digite duas palavras. O programa deve exibir se as palavras são iguais ou diferentes. //Pegadinha do Professor!!!\n",
        "# Solicita ao usuário que digite duas palavras\n",
        "palavra1 = input(\"Digite a primeira palavra: \")\n",
        "palavra2 = input(\"Digite a segunda palavra: \")\n",
        "\n",
        "# Verifica se as palavras são iguais\n",
        "if palavra1 == palavra2:\n",
        "    print(\"As palavras são iguais.\")\n",
        "else:\n",
        "    print(\"As palavras são diferentes.\")"
      ],
      "metadata": {
        "id": "gZvpF4XIddbI"
      },
      "execution_count": null,
      "outputs": []
    }
  ]
}