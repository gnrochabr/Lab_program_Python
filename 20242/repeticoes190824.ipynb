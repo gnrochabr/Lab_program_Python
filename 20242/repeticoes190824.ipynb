{
  "nbformat": 4,
  "nbformat_minor": 0,
  "metadata": {
    "colab": {
      "provenance": [],
      "authorship_tag": "ABX9TyPTJgmmVSQNAZdgErm4zssx",
      "include_colab_link": true
    },
    "kernelspec": {
      "name": "python3",
      "display_name": "Python 3"
    },
    "language_info": {
      "name": "python"
    }
  },
  "cells": [
    {
      "cell_type": "markdown",
      "metadata": {
        "id": "view-in-github",
        "colab_type": "text"
      },
      "source": [
        "<a href=\"https://colab.research.google.com/github/gnrochabr/Lab_program_Python/blob/main/repeticoes190824.ipynb\" target=\"_parent\"><img src=\"https://colab.research.google.com/assets/colab-badge.svg\" alt=\"Open In Colab\"/></a>"
      ]
    },
    {
      "cell_type": "code",
      "execution_count": null,
      "metadata": {
        "colab": {
          "base_uri": "https://localhost:8080/"
        },
        "id": "L7ns8ZZ2Kt3R",
        "outputId": "cb22d6ab-97d8-4173-d2cf-220c54c220c5"
      },
      "outputs": [
        {
          "output_type": "stream",
          "name": "stdout",
          "text": [
            "Digite a quantidade do dia 1: 12\n",
            "Digite a quantidade do dia 2: 12\n",
            "Digite a quantidade do dia 3: 12\n",
            "Digite a quantidade do dia 4: 12\n",
            "A quantidade vendida no total foi de 48\n"
          ]
        }
      ],
      "source": [
        "acum = 0\n",
        "for i in range(1,31):\n",
        "  qtd = int(input(f\"Digite a quantidade do dia {i}: \"))\n",
        "  acum+=qtd\n",
        "print(f\"A quantidade vendida no total foi de {acum}\")"
      ]
    },
    {
      "cell_type": "code",
      "source": [
        "for i in range(1,101):\n",
        "  print(i, end=\" \")"
      ],
      "metadata": {
        "colab": {
          "base_uri": "https://localhost:8080/"
        },
        "id": "YHpz0i_RPq_R",
        "outputId": "06acb71c-4bd9-4ba4-81f3-81874c60ab1c"
      },
      "execution_count": 32,
      "outputs": [
        {
          "output_type": "stream",
          "name": "stdout",
          "text": [
            "1 2 3 4 5 6 7 8 9 10 11 12 13 14 15 16 17 18 19 20 21 22 23 24 25 26 27 28 29 30 31 32 33 34 35 36 37 38 39 40 41 42 43 44 45 46 47 48 49 50 51 52 53 54 55 56 57 58 59 60 61 62 63 64 65 66 67 68 69 70 71 72 73 74 75 76 77 78 79 80 81 82 83 84 85 86 87 88 89 90 91 92 93 94 95 96 97 98 99 100 "
          ]
        }
      ]
    },
    {
      "cell_type": "code",
      "source": [
        "for i in range(200,0,-1):\n",
        "  print(i,end=\" \")"
      ],
      "metadata": {
        "colab": {
          "base_uri": "https://localhost:8080/"
        },
        "id": "RnVhNl5UPwkj",
        "outputId": "661fe8ab-867e-49a1-8787-43ae6570b9d2"
      },
      "execution_count": 31,
      "outputs": [
        {
          "output_type": "stream",
          "name": "stdout",
          "text": [
            "200 199 198 197 196 195 194 193 192 191 190 189 188 187 186 185 184 183 182 181 180 179 178 177 176 175 174 173 172 171 170 169 168 167 166 165 164 163 162 161 160 159 158 157 156 155 154 153 152 151 150 149 148 147 146 145 144 143 142 141 140 139 138 137 136 135 134 133 132 131 130 129 128 127 126 125 124 123 122 121 120 119 118 117 116 115 114 113 112 111 110 109 108 107 106 105 104 103 102 101 100 99 98 97 96 95 94 93 92 91 90 89 88 87 86 85 84 83 82 81 80 79 78 77 76 75 74 73 72 71 70 69 68 67 66 65 64 63 62 61 60 59 58 57 56 55 54 53 52 51 50 49 48 47 46 45 44 43 42 41 40 39 38 37 36 35 34 33 32 31 30 29 28 27 26 25 24 23 22 21 20 19 18 17 16 15 14 13 12 11 10 9 8 7 6 5 4 3 2 1 "
          ]
        }
      ]
    },
    {
      "cell_type": "code",
      "source": [
        "soma = 0\n",
        "for i in range(1,201):\n",
        "  soma+=i\n",
        "print(f\"A soma dos 200 números positivos iniciais é: {soma}\")"
      ],
      "metadata": {
        "colab": {
          "base_uri": "https://localhost:8080/"
        },
        "id": "1DljtfDNQl2G",
        "outputId": "03b9aeb1-09f9-4967-ac92-f82fcd4e3d38"
      },
      "execution_count": 33,
      "outputs": [
        {
          "output_type": "stream",
          "name": "stdout",
          "text": [
            "A soma dos 200 números positivos iniciais é: 20100\n"
          ]
        }
      ]
    },
    {
      "cell_type": "code",
      "source": [
        "inicio = 0\n",
        "atual = 1\n",
        "for i in range(1,101):\n",
        "  print(f\"Fibo{i}: {atual}\",end=\" \") #Imprimimos o 1 antes de modificar\n",
        "  temp = atual\n",
        "  atual += inicio\n",
        "  inicio = temp"
      ],
      "metadata": {
        "colab": {
          "base_uri": "https://localhost:8080/"
        },
        "id": "9rlFbjaXQxKf",
        "outputId": "b34e46b9-9e37-4613-c7f6-423293da59b1"
      },
      "execution_count": 30,
      "outputs": [
        {
          "output_type": "stream",
          "name": "stdout",
          "text": [
            "Fibo1: 1 Fibo2: 1 Fibo3: 2 Fibo4: 3 Fibo5: 5 Fibo6: 8 Fibo7: 13 Fibo8: 21 Fibo9: 34 Fibo10: 55 Fibo11: 89 Fibo12: 144 Fibo13: 233 Fibo14: 377 Fibo15: 610 Fibo16: 987 Fibo17: 1597 Fibo18: 2584 Fibo19: 4181 Fibo20: 6765 Fibo21: 10946 Fibo22: 17711 Fibo23: 28657 Fibo24: 46368 "
          ]
        }
      ]
    },
    {
      "cell_type": "code",
      "source": [
        "inicio = 0\n",
        "atual = 1\n",
        "for i in range(24): #o 1º já existe falta os próximos 24 números\n",
        "  temp = atual\n",
        "  atual += inicio #atual = atual + inicio\n",
        "  inicio = temp\n",
        "print(f\"{atual}\")"
      ],
      "metadata": {
        "colab": {
          "base_uri": "https://localhost:8080/"
        },
        "id": "-GmMdPQfVr0L",
        "outputId": "a405ec16-9890-40ad-c470-a399c3cf5049"
      },
      "execution_count": 35,
      "outputs": [
        {
          "output_type": "stream",
          "name": "stdout",
          "text": [
            "75025\n"
          ]
        }
      ]
    }
  ]
}