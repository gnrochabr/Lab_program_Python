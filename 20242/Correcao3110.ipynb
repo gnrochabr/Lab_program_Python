{
  "nbformat": 4,
  "nbformat_minor": 0,
  "metadata": {
    "colab": {
      "provenance": [],
      "authorship_tag": "ABX9TyPELeg3hYl8tqtl6HoB9jzg",
      "include_colab_link": true
    },
    "kernelspec": {
      "name": "python3",
      "display_name": "Python 3"
    },
    "language_info": {
      "name": "python"
    }
  },
  "cells": [
    {
      "cell_type": "markdown",
      "metadata": {
        "id": "view-in-github",
        "colab_type": "text"
      },
      "source": [
        "<a href=\"https://colab.research.google.com/github/gnrochabr/Lab_program_Python/blob/main/20242/Correcao3110.ipynb\" target=\"_parent\"><img src=\"https://colab.research.google.com/assets/colab-badge.svg\" alt=\"Open In Colab\"/></a>"
      ]
    },
    {
      "cell_type": "code",
      "execution_count": 35,
      "metadata": {
        "id": "R7IczG6NtSvA"
      },
      "outputs": [],
      "source": [
        "#1 - Crie uma função para que o usuário digite o seu nome e a sua cidade. O programa deve exibir \"Olá, [nome]! Você vive em [cidade].“\n",
        "def cidadezinha(nome,cidade):\n",
        "    print(f'Olá, {nome}! Você vive em {cidade}.')\n",
        "\n",
        "#2 - Crie uma função para que o usuário digite o comprimento e a largura de um retângulo. O programa deve exibir a área e o perímetro do retângulo.\n",
        "def complargretangulo(base,altura):\n",
        "  print(f' Area: {(base*altura):.2f} e Perímetro: {((2*base) + (2*altura)):.2f}.')\n",
        "\n",
        "#3 - Crie uma função para que o usuário digite uma medida em metros. O programa deve converter essa medida para centímetros e milímetros e exibir o resultado.\n",
        "def convertecmmm(metros):\n",
        "  cm = metros*100\n",
        "  mm = cm*10\n",
        "  return cm, mm\n",
        "\n",
        "#4 - Crie uma função para que o usuário digite a largura e a altura de um retângulo. O programa deve calcular e exibir a área do retângulo.base = float(input(\"Digite o tamanho da base do retangulo (cm):\"))\n",
        "def arearetangulo(base,altura):\n",
        "  print(f' Area: {(base*altura):.2f}')\n",
        "\n",
        "#5 - Crie uma função para que o usuário digite as idades de duas pessoas. O programa deve exibir se as idades são iguais ou diferentes.\n",
        "def idades(a,b):\n",
        "  if a == b:\n",
        "    print('Idades iguais!')\n",
        "  else:\n",
        "    print('Idades diferentes!')\n",
        "\n",
        "#6 - Crie uma função para que o usuário digite seu peso (em kg) e sua altura (em metros). O programa deve calcular e exibir o Índice de Massa Corporal (IMC).\n",
        "def imc(peso,altura):\n",
        "  print(f'IMC = {(peso/(altura*altura)):.1f}')\n",
        "\n",
        "#7 - Crie uma função para que o usuário digite dois números. O programa deve exibir se o primeiro número é maior, menor ou igual ao segundo número.\n",
        "def maismenosigual(numeroA,numeroB):\n",
        "  if numeroA>numeroB:\n",
        "    print('Maior')\n",
        "  elif numeroA<numeroB:\n",
        "    print('Menor')\n",
        "  else:\n",
        "    print('Igual')\n",
        "\n",
        "#8 - Crie uma função para que o usuário digite três números. O programa deve calcular e exibir a média aritmética desses números.\n",
        "def media3(A,B,C):\n",
        "  return (A+B+C)/3\n",
        "\n",
        "#9 - Crie uma função para que o usuário digite o raio e a altura de um cilindro. O programa deve calcular e exibir o volume do cilindro.\n",
        "def cilindro(raio,altura):\n",
        "  return (3.14)*(raio*raio)*altura\n",
        "\n",
        "#10 - Crie uma função para que o usuário digite duas palavras. O programa deve exibir se as palavras são iguais ou diferentes.\n",
        "def palavras(a,b):\n",
        "  if a == b:\n",
        "    print('Palavras iguais!')\n",
        "  else:\n",
        "    print('Palavras diferentes!')"
      ]
    },
    {
      "cell_type": "code",
      "source": [
        "#1 - Execução da função\n",
        "name = input('Digite seu nome: ')\n",
        "city = input('Digite sua cidade: ')\n",
        "cidadezinha(name,city)"
      ],
      "metadata": {
        "id": "xRfPIIFCtf_d"
      },
      "execution_count": null,
      "outputs": []
    },
    {
      "cell_type": "code",
      "source": [
        "#2 - Execução da função\n",
        "base = float(input(\"Valor da base: \"))\n",
        "altura = float(input(\"Valor da altura: \"))\n",
        "complargretangulo(base,altura)\n"
      ],
      "metadata": {
        "colab": {
          "base_uri": "https://localhost:8080/"
        },
        "id": "j7mAL3tdvut6",
        "outputId": "cf3f23d7-db9d-4b65-f34a-45c6917da188"
      },
      "execution_count": 6,
      "outputs": [
        {
          "output_type": "stream",
          "name": "stdout",
          "text": [
            "Valor da base: 5\n",
            "Valor da altura: 5\n",
            " Area: 25.00 e Perímetro: 20.00.\n"
          ]
        }
      ]
    },
    {
      "cell_type": "code",
      "source": [
        "#3 - Execução da função\n",
        "metros = float(input(\"Digite o valor em metros:\"))\n",
        "cm,mm = convertecmmm(metros)\n",
        "print(f'{cm:.2f}cm ou {mm:.2f}mm')"
      ],
      "metadata": {
        "colab": {
          "base_uri": "https://localhost:8080/"
        },
        "id": "jb4BCHNhw81f",
        "outputId": "33962505-d44a-4243-d599-fdbf220a1568"
      },
      "execution_count": 12,
      "outputs": [
        {
          "output_type": "stream",
          "name": "stdout",
          "text": [
            "Digite o valor em metros:23\n",
            "2300.00cm ou 23000.00mm\n"
          ]
        }
      ]
    },
    {
      "cell_type": "code",
      "source": [
        "#4 - Execução da função\n",
        "base = float(input(\"Valor da base: \"))\n",
        "altura = float(input(\"Valor da altura: \"))\n",
        "arearetangulo(base,altura)"
      ],
      "metadata": {
        "colab": {
          "base_uri": "https://localhost:8080/"
        },
        "id": "f1i06w3KyIiL",
        "outputId": "5fd2d4cf-7056-4fb8-a82b-c04e063eff91"
      },
      "execution_count": 15,
      "outputs": [
        {
          "output_type": "stream",
          "name": "stdout",
          "text": [
            "Valor da base: 5\n",
            "Valor da altura: 6\n",
            " Area: 30.00\n"
          ]
        }
      ]
    },
    {
      "cell_type": "code",
      "source": [
        "#5 - Execução da função\n",
        "idadeA = int(input('Digite a primeira idade:'))\n",
        "idadeB = int(input('Digite a segunda idade:'))\n",
        "idades(idadeA,idadeB)"
      ],
      "metadata": {
        "colab": {
          "base_uri": "https://localhost:8080/"
        },
        "id": "Bqb0Fv71ypB1",
        "outputId": "9d026865-6f8b-4676-e9d5-5a819f87d214"
      },
      "execution_count": 17,
      "outputs": [
        {
          "output_type": "stream",
          "name": "stdout",
          "text": [
            "Digite a primeira idade:12\n",
            "Digite a segunda idade:12\n",
            "Idades iguais!\n"
          ]
        }
      ]
    },
    {
      "cell_type": "code",
      "source": [
        "#6 - Execução da função\n",
        "peso = float(input(\"Peso: \"))\n",
        "altura = float(input(\"Altura: \"))\n",
        "imc(peso,altura)"
      ],
      "metadata": {
        "colab": {
          "base_uri": "https://localhost:8080/"
        },
        "id": "0WmiRfrx0NqH",
        "outputId": "529bd0d0-4243-4aab-893f-9e2e7239b296"
      },
      "execution_count": 25,
      "outputs": [
        {
          "output_type": "stream",
          "name": "stdout",
          "text": [
            "Peso: 115\n",
            "Altura: 1.82\n",
            "IMC = 34.71802922352373\n"
          ]
        }
      ]
    },
    {
      "cell_type": "code",
      "source": [
        "#7 - Execução da função\n",
        "A = int(input('Digite o primeiro número:'))\n",
        "B = int(input('Digite o segundo número:'))\n",
        "maismenosigual(A,B)"
      ],
      "metadata": {
        "colab": {
          "base_uri": "https://localhost:8080/"
        },
        "id": "69qGibHN1t-x",
        "outputId": "6679ed96-db7e-4a22-b9b6-af75f2da135b"
      },
      "execution_count": 27,
      "outputs": [
        {
          "output_type": "stream",
          "name": "stdout",
          "text": [
            "Digite o primeiro número:10\n",
            "Digite o segundo número:2\n",
            "Maior\n"
          ]
        }
      ]
    },
    {
      "cell_type": "code",
      "source": [
        "#8 - Execução da função\n",
        "A = int(input('Digite o primeiro número:'))\n",
        "B = int(input('Digite o segundo número:'))\n",
        "C = int(input('Digite o segundo número:'))\n",
        "media3(A,B,C)"
      ],
      "metadata": {
        "colab": {
          "base_uri": "https://localhost:8080/"
        },
        "id": "De65FJ392IkE",
        "outputId": "31299c0a-6474-4f13-a023-a75048f5158d"
      },
      "execution_count": 29,
      "outputs": [
        {
          "name": "stdout",
          "output_type": "stream",
          "text": [
            "Digite o primeiro número:10\n",
            "Digite o segundo número:9\n",
            "Digite o segundo número:8\n"
          ]
        },
        {
          "output_type": "execute_result",
          "data": {
            "text/plain": [
              "9.0"
            ]
          },
          "metadata": {},
          "execution_count": 29
        }
      ]
    },
    {
      "cell_type": "code",
      "source": [
        "#9 - Execução da função\n",
        "A = float(input('Digite o raio:'))\n",
        "B = float(input('Digite a altura:'))\n",
        "cilindro(A,B)"
      ],
      "metadata": {
        "colab": {
          "base_uri": "https://localhost:8080/"
        },
        "id": "LrT8UeBo5eNa",
        "outputId": "8d9899ae-133a-4ea7-dcd2-a6e643ba6d05"
      },
      "execution_count": 37,
      "outputs": [
        {
          "name": "stdout",
          "output_type": "stream",
          "text": [
            "Digite o raio:2.5\n",
            "Digite a altura:10\n"
          ]
        },
        {
          "output_type": "execute_result",
          "data": {
            "text/plain": [
              "196.25"
            ]
          },
          "metadata": {},
          "execution_count": 37
        }
      ]
    },
    {
      "cell_type": "code",
      "source": [
        "#10 - Execução da função\n",
        "A = input('Digite a primeira palavra:')\n",
        "B = input('Digite a segunda palavra:')\n",
        "palavras(A,B)"
      ],
      "metadata": {
        "colab": {
          "base_uri": "https://localhost:8080/"
        },
        "id": "u5_gAAUa5eGH",
        "outputId": "fabcae4e-7668-4379-a760-478bf376a4ad"
      },
      "execution_count": 39,
      "outputs": [
        {
          "output_type": "stream",
          "name": "stdout",
          "text": [
            "Digite a primeira palavra:GG\n",
            "Digite a segunda palavra:GG\n",
            "Palavras iguais!\n"
          ]
        }
      ]
    }
  ]
}