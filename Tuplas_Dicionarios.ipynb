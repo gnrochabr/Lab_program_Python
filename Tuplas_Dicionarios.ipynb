{
  "nbformat": 4,
  "nbformat_minor": 0,
  "metadata": {
    "colab": {
      "provenance": [],
      "authorship_tag": "ABX9TyN5r2spOELokYtVEbzDUN7W",
      "include_colab_link": true
    },
    "kernelspec": {
      "name": "python3",
      "display_name": "Python 3"
    },
    "language_info": {
      "name": "python"
    }
  },
  "cells": [
    {
      "cell_type": "markdown",
      "metadata": {
        "id": "view-in-github",
        "colab_type": "text"
      },
      "source": [
        "<a href=\"https://colab.research.google.com/github/gnrochabr/Lab_program_Python/blob/main/Tuplas_Dicionarios.ipynb\" target=\"_parent\"><img src=\"https://colab.research.google.com/assets/colab-badge.svg\" alt=\"Open In Colab\"/></a>"
      ]
    },
    {
      "cell_type": "code",
      "execution_count": 2,
      "metadata": {
        "colab": {
          "base_uri": "https://localhost:8080/"
        },
        "id": "SfDT2A4D9YYS",
        "outputId": "9d22b5f6-ab7e-4fa7-9e05-4a864a8b8ed0"
      },
      "outputs": [
        {
          "output_type": "stream",
          "name": "stdout",
          "text": [
            "['maçã', 'banana', 'limão', 'Mixirica']\n"
          ]
        }
      ],
      "source": [
        "frutas = ['maçã','banana','limão']\n",
        "frutas.append('Mixirica')\n",
        "print(frutas)"
      ]
    },
    {
      "cell_type": "code",
      "source": [
        "frutas_t = ('maçã','banana','limão')\n",
        "#frutas_t.append('Mixirica')\n",
        "print(frutas_t[1])"
      ],
      "metadata": {
        "colab": {
          "base_uri": "https://localhost:8080/"
        },
        "id": "y3KwFm2l91-f",
        "outputId": "f6e26548-07c5-47f7-89b9-f62252154a87"
      },
      "execution_count": 5,
      "outputs": [
        {
          "output_type": "stream",
          "name": "stdout",
          "text": [
            "banana\n"
          ]
        }
      ]
    },
    {
      "cell_type": "code",
      "source": [
        "pessoas = {}\n",
        "\n",
        "for i in range(1):\n",
        "  nome = input(f'Digite o novo nome para a Pessoa {i}: ')\n",
        "  cidade = input(f'Digite a cidade da Pessoa {i}: ')\n",
        "\n",
        "  pessoas[f'pessoa{i}'] = {\n",
        "      'nome':nome,\n",
        "      'cidade':cidade\n",
        "  }\n",
        "\n",
        "for pessoa in pessoas:\n",
        "  print(pessoas[pessoa]['nome'],pessoas[pessoa]['cidade'])"
      ],
      "metadata": {
        "colab": {
          "base_uri": "https://localhost:8080/"
        },
        "id": "7U3OT6aL-ZUR",
        "outputId": "f82df256-aa15-4d4c-9e41-2847702db575"
      },
      "execution_count": 21,
      "outputs": [
        {
          "output_type": "stream",
          "name": "stdout",
          "text": [
            "Digite o novo nome para a Pessoa 0: Gustavo\n",
            "Digite a cidade da Pessoa 0: BH\n",
            "Gustavo BH\n"
          ]
        }
      ]
    },
    {
      "cell_type": "code",
      "source": [
        "#1 Crie uma tupla chamada cidades que contenha os nomes de cinco cidades. Imprima a terceira cidade.\n",
        "cidades = ('Viana','Cariacica','Vila Velha','Vitória','Serra')\n",
        "print(cidades[2])\n",
        "\n"
      ],
      "metadata": {
        "colab": {
          "base_uri": "https://localhost:8080/"
        },
        "id": "xxyvPZsjH1ao",
        "outputId": "17a623c5-444e-4be5-fb62-c2a86bc79395"
      },
      "execution_count": 22,
      "outputs": [
        {
          "output_type": "stream",
          "name": "stdout",
          "text": [
            "Vila Velha\n"
          ]
        }
      ]
    },
    {
      "cell_type": "code",
      "source": [
        "#2 Crie uma tupla chamada numeros com os seguintes valores: (1, 2, 3, 1, 4, 1). Utilize o método count() para contar quantas vezes o número 1 aparece na tupla.\n",
        "numeros = (1, 2, 3, 1, 4, 1)\n",
        "numeros.count(1)"
      ],
      "metadata": {
        "colab": {
          "base_uri": "https://localhost:8080/"
        },
        "id": "9ARWli15H9hu",
        "outputId": "d81cf78a-e97b-44a7-f0b5-7529de9c1aad"
      },
      "execution_count": 24,
      "outputs": [
        {
          "output_type": "execute_result",
          "data": {
            "text/plain": [
              "3"
            ]
          },
          "metadata": {},
          "execution_count": 24
        }
      ]
    },
    {
      "cell_type": "code",
      "source": [
        "#3 Crie uma tupla chamada animais com os seguintes valores: ('cachorro', 'gato', 'pássaro'). Verifique se 'gato' está na tupla e imprima uma mensagem informando o resultado.\n",
        "animais = ('cachorro', 'gato', 'pássaro')\n",
        "if 'gato' in animais:\n",
        "  print('Gato presente')\n",
        "else:\n",
        "  print('Gato não presente')"
      ],
      "metadata": {
        "colab": {
          "base_uri": "https://localhost:8080/"
        },
        "id": "3fMZV6huIAXG",
        "outputId": "70cea230-c9e1-454d-a153-6c76a0d55fad"
      },
      "execution_count": 25,
      "outputs": [
        {
          "output_type": "stream",
          "name": "stdout",
          "text": [
            "Gato presente\n"
          ]
        }
      ]
    },
    {
      "cell_type": "code",
      "source": [
        "#4 Dada a tupla meses = ('janeiro', 'fevereiro', 'março', 'abril', 'maio'), encontre e imprima o índice do mês 'abril'.\n",
        "meses = ('janeiro', 'fevereiro', 'março', 'abril', 'maio')\n",
        "meses.index('abril')"
      ],
      "metadata": {
        "colab": {
          "base_uri": "https://localhost:8080/"
        },
        "id": "rZ82vWO0IAh-",
        "outputId": "147d1622-162e-4fc3-cf45-9d4425d8fc94"
      },
      "execution_count": 26,
      "outputs": [
        {
          "output_type": "execute_result",
          "data": {
            "text/plain": [
              "3"
            ]
          },
          "metadata": {},
          "execution_count": 26
        }
      ]
    },
    {
      "cell_type": "code",
      "source": [
        "#5 Crie uma tupla chamada coordenadas que armazene a latitude e longitude de um local (ex: (-23.5505, -46.6333)). Imprima a latitude e a longitude separadamente.\n",
        "coordenadas = ('-23.5505', '-46.6333')\n",
        "\n",
        "#for i in coordenadas:\n",
        "  #print(i)\n",
        "print(f'Latitude: {coordenadas[0]}')\n",
        "print(f'Longitude: {coordenadas[1]}')\n",
        "\n"
      ],
      "metadata": {
        "colab": {
          "base_uri": "https://localhost:8080/"
        },
        "id": "OECfB5QnIAqP",
        "outputId": "926aedcc-19c5-4ce3-9cc5-2f7ad415dcee"
      },
      "execution_count": 28,
      "outputs": [
        {
          "output_type": "stream",
          "name": "stdout",
          "text": [
            "Latitude: -23.5505\n",
            "Longitude: -46.6333\n"
          ]
        }
      ]
    },
    {
      "cell_type": "code",
      "source": [
        "#6 Crie um dicionário chamado carro com as chaves marca, modelo e ano. Atribua valores de sua escolha e imprima o modelo do carro.\n",
        "carro = {\n",
        "    'marca': 'Toyota',\n",
        "    'modelo': 'Corolla XEI 2.0',\n",
        "    'ano': '2017'\n",
        "}\n",
        "\n",
        "print(carro['modelo'])\n"
      ],
      "metadata": {
        "colab": {
          "base_uri": "https://localhost:8080/"
        },
        "id": "eOWrwbWZIBG1",
        "outputId": "fa1481fe-5fa3-4f0c-a241-00b9cbf7d877"
      },
      "execution_count": 31,
      "outputs": [
        {
          "output_type": "stream",
          "name": "stdout",
          "text": [
            "Corolla XEI 2.0\n"
          ]
        }
      ]
    },
    {
      "cell_type": "code",
      "source": [
        "#7 Use o dicionário carro que você criou no exercício anterior. Adicione uma nova chave chamada cor e atribua uma cor ao carro. Em seguida, imprima o dicionário completo.\n",
        "\n",
        "carro = {\n",
        "    'marca': 'Toyota',\n",
        "    'modelo': 'Corolla XEI 2.0',\n",
        "    'ano': '2017'\n",
        "}\n",
        "\n",
        "carro['cor'] = 'Branco Pérola'\n",
        "\n",
        "print(carro)"
      ],
      "metadata": {
        "colab": {
          "base_uri": "https://localhost:8080/"
        },
        "id": "RoDQGfKXIBON",
        "outputId": "f6197d33-819e-4ad1-e417-dc7421928732"
      },
      "execution_count": 32,
      "outputs": [
        {
          "output_type": "stream",
          "name": "stdout",
          "text": [
            "{'marca': 'Toyota', 'modelo': 'Corolla XEI 2.0', 'ano': '2017', 'cor': 'Branco Pérola'}\n"
          ]
        }
      ]
    },
    {
      "cell_type": "code",
      "source": [
        "#8 Dado o dicionário pessoa = {'nome': 'João', 'idade': 30, 'cidade': 'São Paulo'}, remova a chave idade e imprima o dicionário resultante.\n",
        "pessoa = {'nome': 'João', 'idade': 30, 'cidade': 'São Paulo'}\n",
        "pessoa.pop('idade')\n",
        "print(pessoa)"
      ],
      "metadata": {
        "colab": {
          "base_uri": "https://localhost:8080/"
        },
        "id": "Gu583XskIBUU",
        "outputId": "fa2a850c-3ab2-4268-bfff-fb65371c711b"
      },
      "execution_count": 34,
      "outputs": [
        {
          "output_type": "stream",
          "name": "stdout",
          "text": [
            "{'nome': 'João', 'cidade': 'São Paulo'}\n"
          ]
        }
      ]
    },
    {
      "cell_type": "code",
      "source": [
        "#9 Crie um dicionário chamado produto que contenha nome, preco e quantidade. Use um loop for para imprimir todos os pares chave/valor.\n",
        "produto = {\n",
        "    'nome':'biscoito',\n",
        "    'preco':'R$ 5.00',\n",
        "    'quantidade':1\n",
        "}\n",
        "\n",
        "for i in produto:\n",
        "  print(f'{i}: {produto[i]}')\n"
      ],
      "metadata": {
        "colab": {
          "base_uri": "https://localhost:8080/"
        },
        "id": "yb4zEseSIBaL",
        "outputId": "286b4cad-88e9-46e0-917a-d89c38162c71"
      },
      "execution_count": 37,
      "outputs": [
        {
          "output_type": "stream",
          "name": "stdout",
          "text": [
            "nome: biscoito\n",
            "preco: R$ 5.00\n",
            "quantidade: 1\n"
          ]
        }
      ]
    },
    {
      "cell_type": "code",
      "source": [
        "#10 Dado o dicionário estudante = {'nome': 'Maria', 'curso': 'Biologia', 'ano': 2}, verifique se a chave curso existe. Se existir, imprima \"A estudante está no curso de Biologia.\"\n",
        "estudante = {'nome': 'Maria', 'curso': 'Biologia', 'ano': 2}\n",
        "if 'curso' in estudante:\n",
        "  print(f\"A estudante está no curso de {estudante['curso']}\")\n"
      ],
      "metadata": {
        "colab": {
          "base_uri": "https://localhost:8080/"
        },
        "id": "2z5-4jgMIBgU",
        "outputId": "ea567ec2-85a6-4a24-e7e7-cc5546f62722"
      },
      "execution_count": 40,
      "outputs": [
        {
          "output_type": "stream",
          "name": "stdout",
          "text": [
            "A estudante está no curso de Biologia\n"
          ]
        }
      ]
    }
  ]
}