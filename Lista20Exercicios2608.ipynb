{
  "nbformat": 4,
  "nbformat_minor": 0,
  "metadata": {
    "colab": {
      "provenance": [],
      "authorship_tag": "ABX9TyMpAbIQpXBL0Tzmr2/Xf/mn",
      "include_colab_link": true
    },
    "kernelspec": {
      "name": "python3",
      "display_name": "Python 3"
    },
    "language_info": {
      "name": "python"
    }
  },
  "cells": [
    {
      "cell_type": "markdown",
      "metadata": {
        "id": "view-in-github",
        "colab_type": "text"
      },
      "source": [
        "<a href=\"https://colab.research.google.com/github/gnrochabr/Lab_program_Python/blob/main/Lista20Exercicios2608.ipynb\" target=\"_parent\"><img src=\"https://colab.research.google.com/assets/colab-badge.svg\" alt=\"Open In Colab\"/></a>"
      ]
    },
    {
      "cell_type": "code",
      "execution_count": null,
      "metadata": {
        "id": "_EbQEZMyNHaR"
      },
      "outputs": [],
      "source": [
        "# 1 - Desenvolva um programa que continue solicitando um número até que o usuário forneça um número positivo e par, utilizando uma estrutura de repetição `while`.\n",
        "while True:\n",
        "  num = int(input(\"Digite um número: \"))\n",
        "  if num >=0 and num%2==0:\n",
        "    print(f\"O numero {num} é positivo e par\")\n",
        "    break\n",
        "  else:\n",
        "    print(\"Tente novamente!\")\n"
      ]
    },
    {
      "cell_type": "code",
      "source": [
        "# 2 - Faça um programa que percorra uma lista de números utilizando um laço `for` e exiba aqueles que são divisíveis por 3.\n",
        "lista = [21,34,56,78,90,123,456,789,109,287]\n",
        "\n",
        "for i in range(len(lista)):\n",
        "    if lista[i]%3==0:\n",
        "        print(lista[i])"
      ],
      "metadata": {
        "id": "JigEfeD1Noq_",
        "colab": {
          "base_uri": "https://localhost:8080/"
        },
        "outputId": "3e39c2fd-ada3-4f06-fdca-b436ce505e68"
      },
      "execution_count": null,
      "outputs": [
        {
          "output_type": "stream",
          "name": "stdout",
          "text": [
            "21\n",
            "78\n",
            "90\n",
            "123\n",
            "456\n",
            "789\n"
          ]
        }
      ]
    },
    {
      "cell_type": "code",
      "source": [
        "# 3 - Crie um programa que peça repetidamente uma senha ao usuário, até que ele acerte, usando um laço `while`.\n",
        "senha = \"GALODOIDO\"\n",
        "while True:\n",
        "    tentativa = input(\"Digite sua senha correta:\")\n",
        "    if senha == tentativa:\n",
        "        print(\"sua senha está correta!!!\")\n",
        "        break\n",
        "    else:\n",
        "        print(\"Senha incorreta!\\n\")"
      ],
      "metadata": {
        "id": "01-sD4tuNqqZ"
      },
      "execution_count": null,
      "outputs": []
    },
    {
      "cell_type": "code",
      "source": [
        "# 4 - Crie um programa que percorra uma lista de números com um laço `for` e exiba aqueles que estão em posições ímpares na lista.\n",
        "lista = [21,34,56,78,90,123,456,789,109,287]\n",
        "\n",
        "for i in range(len(lista)):\n",
        "    if i%2==1:\n",
        "        print(lista[i])"
      ],
      "metadata": {
        "id": "B3AyLLPANsQ1"
      },
      "execution_count": null,
      "outputs": []
    },
    {
      "cell_type": "code",
      "source": [
        "# 5 - Desenvolva um programa que calcule o fatorial de um número fornecido pelo usuário, utilizando um laço `for`.\n",
        "numero = int(input(\"Digite o número:\"))\n",
        "fat = 1\n",
        "for i in range(numero,0,-1):\n",
        "    fat*=i\n",
        "print(f\"O fatorial de {numero} é {fat}\")"
      ],
      "metadata": {
        "id": "dzajxAxvNuBr"
      },
      "execution_count": null,
      "outputs": []
    },
    {
      "cell_type": "code",
      "source": [
        "# 6 - Crie um programa que simule um sistema de caixa eletrônico, onde o usuário deve continuar informando o valor a ser sacado até que não haja saldo suficiente, utilizando um laço `while`.\n",
        "\n",
        "saldo = 1000\n",
        "while saldo>0:\n",
        "    saque = float(input(\"Digite o valor do saque: R$\"))\n",
        "    if(saque<=saldo):\n",
        "        saldo-=saque\n",
        "        print(f\"Saque: R${saque:.2f} | Saldo: R${saldo:.2f}\")\n",
        "        if(saldo==0):\n",
        "            print(\"Você faliu!!!\")\n",
        "    else:\n",
        "        print(\"Saldo insuficiente | Saldo: R${saldo:.2f}\")\n"
      ],
      "metadata": {
        "id": "fHPNMocMNvsu"
      },
      "execution_count": null,
      "outputs": []
    },
    {
      "cell_type": "code",
      "source": [
        "# 7 - Faça um programa que peça ao usuário uma lista de números e continue pedindo até que o número 0 seja fornecido. No final, exiba a soma dos números pares fornecidos, usando uma estrutura `while`.\n",
        "lista = []\n",
        "while True:\n",
        "  num = int(input(\"Digite um número:\"))\n",
        "  if num!=0 and num%2==0:\n",
        "    lista.append(num)\n",
        "  elif num == 0:\n",
        "    print(\"Saindo...\")\n",
        "    break\n",
        "  else:\n",
        "    continue\n",
        "\n",
        "soma = 0\n",
        "indice = 0\n",
        "while indice < len(lista):\n",
        "  soma+=lista[indice]\n",
        "  indice+=1\n",
        "\n",
        "print(soma)\n"
      ],
      "metadata": {
        "id": "X_VGNOKjNyLr",
        "colab": {
          "base_uri": "https://localhost:8080/"
        },
        "outputId": "08f77518-6de7-4277-952d-f3982f0c25ce"
      },
      "execution_count": null,
      "outputs": [
        {
          "output_type": "stream",
          "name": "stdout",
          "text": [
            "Digite um número:2\n",
            "Digite um número:4\n",
            "Digite um número:5\n",
            "Digite um número:6\n",
            "Digite um número:3\n",
            "Digite um número:0\n",
            "Saindo...\n",
            "12\n"
          ]
        }
      ]
    },
    {
      "cell_type": "markdown",
      "source": [],
      "metadata": {
        "id": "u0pX5WfreW3I"
      }
    },
    {
      "cell_type": "code",
      "source": [
        "# 8 - Escreva um programa que receba uma lista de nomes e, utilizando um laço `for`, exiba apenas aqueles com mais de 5 caracteres.\n",
        "nomes = [\"João\", \"Joaquim\", \"Maria\", \"Francisco\", \"Esmilda\"]\n",
        "for i in nomes:\n",
        "  if len(i)>5:\n",
        "    print(i)\n",
        "\n",
        "#for i in range (len(nomes)):\n",
        "#  if len(nomes[i])>5:\n",
        "#    print(nomes[i])"
      ],
      "metadata": {
        "id": "yS5Comd3Pgtt",
        "colab": {
          "base_uri": "https://localhost:8080/"
        },
        "outputId": "12b98739-9615-42a7-e345-1497f81e7f82"
      },
      "execution_count": null,
      "outputs": [
        {
          "output_type": "stream",
          "name": "stdout",
          "text": [
            "Joaquim\n",
            "Francisco\n",
            "Esmilda\n"
          ]
        }
      ]
    },
    {
      "cell_type": "code",
      "source": [
        "# 9 - Desenvolva um programa que receba números inteiros até que o usuário digite um número negativo e, ao final, exiba a soma desses números, utilizando um laço `while`.\n",
        "soma = 0\n",
        "while True:\n",
        "  numero = int(input(\"Digita ai:\"))\n",
        "  if numero<0:\n",
        "    break\n",
        "  else:\n",
        "    soma+=numero\n",
        "print(soma)\n",
        "\n"
      ],
      "metadata": {
        "id": "VFn4PMG8PkOF",
        "colab": {
          "base_uri": "https://localhost:8080/"
        },
        "outputId": "5bb410bd-17b5-409a-de04-8fb5db424549"
      },
      "execution_count": null,
      "outputs": [
        {
          "output_type": "stream",
          "name": "stdout",
          "text": [
            "Digita ai:-1\n",
            "0\n"
          ]
        }
      ]
    },
    {
      "cell_type": "code",
      "source": [
        "# 10 - Crie um programa que continue solicitando a entrada de uma palavra até que o usuário digite \"sair\", utilizando um laço `while`.\n",
        "while True:\n",
        "  p = input(\"Digite ai uma palavra: \")\n",
        "  if p !=\"sair\":\n",
        "    continue #colocar um print de vcs\n",
        "  else:\n",
        "    break\n"
      ],
      "metadata": {
        "id": "_yhxkB4lPkdF",
        "colab": {
          "base_uri": "https://localhost:8080/"
        },
        "outputId": "25a5ad2f-f9aa-47bc-e9f8-1a3b035897f0"
      },
      "execution_count": null,
      "outputs": [
        {
          "name": "stdout",
          "output_type": "stream",
          "text": [
            "Digite ai uma palavraoi\n",
            "Digite ai uma palavravoce\n",
            "Digite ai uma palavrasair\n"
          ]
        }
      ]
    },
    {
      "cell_type": "code",
      "source": [
        "# 11 - Percorra uma lista de números usando um laço `for` e exiba somente os números pares.\n",
        "lista = [1,2,3,4,5,6]\n",
        "for i in lista:\n",
        "  if i%2 == 0:\n",
        "    print(i)\n"
      ],
      "metadata": {
        "id": "63Mm9DA-Pkqn",
        "colab": {
          "base_uri": "https://localhost:8080/"
        },
        "outputId": "22e153e8-83b2-443c-f078-1c8577fa2333"
      },
      "execution_count": null,
      "outputs": [
        {
          "output_type": "stream",
          "name": "stdout",
          "text": [
            "2\n",
            "4\n",
            "6\n"
          ]
        }
      ]
    },
    {
      "cell_type": "code",
      "source": [
        "# 12 - Faça um programa que percorra uma lista de números com um laço `for` e exiba apenas aqueles que são primos.\n",
        "lista = [1,2,3,4,5,6]\n",
        "for i in lista:\n",
        "  cont = 0\n",
        "  for j in range(1,i):\n",
        "    if i%j==0:\n",
        "      cont+=1\n",
        "  if cont <= 1:\n",
        "    print(i)\n"
      ],
      "metadata": {
        "id": "As7YOV7wPk1x",
        "colab": {
          "base_uri": "https://localhost:8080/"
        },
        "outputId": "bf0ef33b-ec85-4abc-97f2-e212f93d6cb8"
      },
      "execution_count": null,
      "outputs": [
        {
          "output_type": "stream",
          "name": "stdout",
          "text": [
            "1\n",
            "2\n",
            "3\n",
            "5\n"
          ]
        }
      ]
    },
    {
      "cell_type": "code",
      "source": [
        "# 13 - Escreva um programa que calcule a soma dos números de 1 a 100 utilizando um laço `for`.\n",
        "soma = 0\n",
        "for i in range(1,101):\n",
        "  soma+=i\n",
        "print(soma)"
      ],
      "metadata": {
        "id": "17Hj_rPtPlIC",
        "colab": {
          "base_uri": "https://localhost:8080/"
        },
        "outputId": "822871a5-9fa3-43ca-eb14-63ba1728bd21"
      },
      "execution_count": null,
      "outputs": [
        {
          "output_type": "stream",
          "name": "stdout",
          "text": [
            "5050\n"
          ]
        }
      ]
    },
    {
      "cell_type": "code",
      "source": [
        "# 14 - Crie um programa que percorra uma lista de números e exiba o menor número, utilizando uma estrutura de repetição `while`.\n",
        "lista = [15,24,14,16,11]\n",
        "menor = lista[0]\n",
        "i = 1\n",
        "while i < len(lista):\n",
        "  if lista[i] < menor:\n",
        "    menor = lista[i]\n",
        "  i+=1\n",
        "print (menor)"
      ],
      "metadata": {
        "id": "vmYPdWxwPlOX",
        "colab": {
          "base_uri": "https://localhost:8080/"
        },
        "outputId": "7bd2f8e6-cc99-4286-ca09-81647c0d8342"
      },
      "execution_count": null,
      "outputs": [
        {
          "output_type": "stream",
          "name": "stdout",
          "text": [
            "11\n"
          ]
        }
      ]
    },
    {
      "cell_type": "code",
      "source": [
        "# 15 - Simule uma votação em que o usuário pode votar em 3 candidatos e a votação continua até que o usuário digite \"fim\", utilizando um laço `while`.\n",
        "candidatos = [\"João das Couves\",\"Maria das Garças\",\"Joaquim Pudim\",\"Helena Serena\",\"Lurdes da Saúde\"]\n",
        "i = 0\n",
        "while i < len(candidatos):\n",
        "   print(f\"{i+20} - {candidatos[i]}\")\n",
        "   i+=1\n",
        "votoA = int(input(\"Digite seu 1º voto\"))\n",
        "votoB = int(input(\"Digite seu 2º voto\"))\n",
        "votoC = int(input(\"Digite seu 3º voto\"))\n",
        "while True:\n",
        "  votoD = input(\"Digite fim para finalizar\")\n",
        "  if votoD == 'fim':\n",
        "    print(\"Votação finalizada!\")\n",
        "    break\n",
        "\n",
        "\n"
      ],
      "metadata": {
        "id": "HLQPLW2xPlTl",
        "colab": {
          "base_uri": "https://localhost:8080/"
        },
        "outputId": "95780f01-85be-482f-b902-7d87f94e55cf"
      },
      "execution_count": null,
      "outputs": [
        {
          "output_type": "stream",
          "name": "stdout",
          "text": [
            "20 - João das Couves\n",
            "21 - Maria das Garças\n",
            "22 - Joaquim Pudim\n",
            "23 - Helena Serena\n",
            "24 - Lurdes da Saúde\n",
            "Digite seu 1º voto12\n",
            "Digite seu 2º voto12\n",
            "Digite seu 3º voto12\n",
            "Digite fim para finalizareqw\n",
            "Digite fim para finalizarfim\n",
            "Votação finalizada!\n"
          ]
        }
      ]
    },
    {
      "cell_type": "code",
      "source": [
        "# 16 - Crie um programa que percorra uma lista de números e exiba o quadrado de cada número, utilizando um laço `for`.\n",
        "numeros = [1, 2, 3, 4, 5]\n",
        "for numero in numeros:\n",
        "    print(f\"O quadrado de {numero} é {numero ** 2}\")\n"
      ],
      "metadata": {
        "id": "U7A9ukmmPlXM"
      },
      "execution_count": null,
      "outputs": []
    },
    {
      "cell_type": "code",
      "source": [
        "# 17 - Faça um programa que receba uma lista de nomes e, usando um laço `for`, exiba apenas aqueles que começam com a letra \"A\".\n",
        "nomes = ['Ana', 'Bruno', 'Amanda', 'Carlos', 'Alice']\n",
        "for nome in nomes:\n",
        "    if nome.startswith('A'):\n",
        "        print(nome)\n"
      ],
      "metadata": {
        "id": "E-XU3XhnPlaL"
      },
      "execution_count": null,
      "outputs": []
    },
    {
      "cell_type": "code",
      "source": [
        "# 18 - Desenvolva um programa que solicite ao usuário uma senha e continue pedindo até que a senha atenda a critérios de complexidade (mínimo 8 caracteres, pelo menos uma letra maiúscula, uma minúscula e um número), utilizando um laço `while`.\n",
        "senha_valida = False\n",
        "\n",
        "while not senha_valida:\n",
        "    senha = input(\"Digite uma senha que atenda aos critérios de complexidade: \")\n",
        "\n",
        "    # Verificar se a senha tem pelo menos 8 caracteres\n",
        "    if len(senha) < 8:\n",
        "        print(\"A senha deve ter no mínimo 8 caracteres.\")\n",
        "        continue\n",
        "\n",
        "    # Verificar se há pelo menos uma letra maiúscula\n",
        "    tem_maiuscula = any(c.isupper() for c in senha)\n",
        "    if not tem_maiuscula:\n",
        "        print(\"A senha deve ter pelo menos uma letra maiúscula.\")\n",
        "        continue\n",
        "\n",
        "    # Verificar se há pelo menos uma letra minúscula\n",
        "    tem_minuscula = any(c.islower() for c in senha)\n",
        "    if not tem_minuscula:\n",
        "        print(\"A senha deve ter pelo menos uma letra minúscula.\")\n",
        "        continue\n",
        "\n",
        "    # Verificar se há pelo menos um número\n",
        "    tem_numero = any(c.isdigit() for c in senha)\n",
        "    if not tem_numero:\n",
        "        print(\"A senha deve ter pelo menos um número.\")\n",
        "        continue\n",
        "\n",
        "    # Se todas as condições forem atendidas, a senha é válida\n",
        "    senha_valida = True\n",
        "    print(\"Senha válida!\")\n"
      ],
      "metadata": {
        "id": "nD-DrD-SP4ED"
      },
      "execution_count": null,
      "outputs": []
    },
    {
      "cell_type": "code",
      "source": [
        "# 19 - Faça um programa que peça números ao usuário e exiba a média dos números digitados até que o usuário digite zero, utilizando uma estrutura de repetição `while`.\n",
        "numeros = []\n",
        "while True:\n",
        "    numero = float(input(\"Digite um número (0 para sair): \"))\n",
        "    if numero == 0:\n",
        "        break\n",
        "    numeros.append(numero)\n",
        "\n",
        "if numeros:\n",
        "    media = sum(numeros) / len(numeros)\n",
        "    print(f\"A média dos números digitados é: {media}\")\n",
        "else:\n",
        "    print(\"Nenhum número foi digitado.\")\n"
      ],
      "metadata": {
        "id": "0veuTtTbP4N4"
      },
      "execution_count": null,
      "outputs": []
    },
    {
      "cell_type": "code",
      "source": [
        "# 20 - Crie um programa que percorra uma lista de números utilizando um laço `for` e exiba aqueles que são maiores que 10.\n",
        "numeros = [4, 15, 8, 23, 7, 12]\n",
        "for numero in numeros:\n",
        "    if numero > 10:\n",
        "        print(f\"{numero} é maior que 10\")\n"
      ],
      "metadata": {
        "id": "VeIBZhREPlcw"
      },
      "execution_count": null,
      "outputs": []
    }
  ]
}