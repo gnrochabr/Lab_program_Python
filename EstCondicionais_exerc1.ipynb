{
  "nbformat": 4,
  "nbformat_minor": 0,
  "metadata": {
    "colab": {
      "provenance": [],
      "authorship_tag": "ABX9TyONg+OrQgjmlZuWj2NQ2/ps",
      "include_colab_link": true
    },
    "kernelspec": {
      "name": "python3",
      "display_name": "Python 3"
    },
    "language_info": {
      "name": "python"
    }
  },
  "cells": [
    {
      "cell_type": "markdown",
      "metadata": {
        "id": "view-in-github",
        "colab_type": "text"
      },
      "source": [
        "<a href=\"https://colab.research.google.com/github/gnrochabr/Lab_program_Python/blob/main/EstCondicionais_exerc1.ipynb\" target=\"_parent\"><img src=\"https://colab.research.google.com/assets/colab-badge.svg\" alt=\"Open In Colab\"/></a>"
      ]
    },
    {
      "cell_type": "code",
      "source": [
        "# 1 - Escreva um programa que leia um número inteiro e verifique se ele é par ou ímpar.\n",
        "numero = int(input(\"Digite um número: \"))\n",
        "if numero%2 == 0: #Se ele for par\n",
        "  print(f\"O número {numero} é par!\")\n",
        "else: #se ele for ímpar\n",
        "  print(f\"O numero {numero} é ímpar!\")\n"
      ],
      "metadata": {
        "colab": {
          "base_uri": "https://localhost:8080/"
        },
        "id": "vyKJ-oAymj1B",
        "outputId": "95f749ec-88c8-47e2-d837-55d819d5408d"
      },
      "execution_count": 2,
      "outputs": [
        {
          "output_type": "stream",
          "name": "stdout",
          "text": [
            "Digite um número: 11\n",
            "O numero 11 é ímpar!\n"
          ]
        }
      ]
    },
    {
      "cell_type": "code",
      "execution_count": 4,
      "metadata": {
        "colab": {
          "base_uri": "https://localhost:8080/"
        },
        "id": "RxnetrEnmNPs",
        "outputId": "01cdf950-e44d-4ef3-9565-7e2939a36030"
      },
      "outputs": [
        {
          "output_type": "stream",
          "name": "stdout",
          "text": [
            "Digite sua idade: 10\n",
            "Você será de maior daqui a 8 anos!\n"
          ]
        }
      ],
      "source": [
        "# 2 - Crie um programa que leia a idade de uma pessoa e exiba uma mensagem dizendo se ela é maior ou menor de idade.\n",
        "idade = int(input(\"Digite sua idade: \"))\n",
        "if idade >= 18: #Se ele for par\n",
        "  print(f\"Você é de maior!\")\n",
        "else: #se ele for ímpar\n",
        "  print(f\"Você será de maior daqui a {18-idade} anos!\")"
      ]
    },
    {
      "cell_type": "code",
      "source": [
        "# 3 - Escreva um programa que leia um número inteiro e verifique se ele é múltiplo de 5.\n",
        "numero = int(input(\"Digite um número aí: \"))\n",
        "if numero%5==0: #Filtra apenas os múltiplos de 5\n",
        "  print(f\"Seu número é múltiplo de 5! =D\")\n",
        "else: #Filtra apemas os não múltiplos de 5\n",
        "  print(f\"Seu número não é múltiplo de 5! :(\")"
      ],
      "metadata": {
        "colab": {
          "base_uri": "https://localhost:8080/"
        },
        "id": "xaGLGSwZm_Kt",
        "outputId": "3c76c8b6-2f20-4071-e152-3a620906a6e1"
      },
      "execution_count": 7,
      "outputs": [
        {
          "output_type": "stream",
          "name": "stdout",
          "text": [
            "Digite um número aí: 2000570\n",
            "Seu número é múltiplo de 5! =D\n"
          ]
        }
      ]
    },
    {
      "cell_type": "code",
      "source": [
        "#4 -  Faça um programa que leia dois números inteiros e mostre o maior deles. Se forem iguais, exiba uma mensagem informando que os números são iguais.\n",
        "numA = int(input(\"Digite o primeiro número: \"))\n",
        "numB = int(input(\"Digite o segundo número: \"))\n",
        "if numA == numB:\n",
        "  print(f\"{numA} e {numB} são iguais\")\n",
        "elif numA > numB:\n",
        "  print(f\"{numA} é maior que {numB}!\")\n",
        "else:\n",
        "  print(f\"{numA} é menor que {numB}!\")\n",
        "\n"
      ],
      "metadata": {
        "colab": {
          "base_uri": "https://localhost:8080/"
        },
        "id": "e9LpG2cUm_Nc",
        "outputId": "ec42fabf-52e7-4073-8c72-cd4b6a4a41a4"
      },
      "execution_count": 10,
      "outputs": [
        {
          "output_type": "stream",
          "name": "stdout",
          "text": [
            "Digite o primeiro número: 4\n",
            "Digite o segundo número: 3\n",
            "4 é maior que 3!\n"
          ]
        }
      ]
    },
    {
      "cell_type": "code",
      "source": [
        "#5 - Crie um programa que peça o nome de um usuário e uma senha. Se o nome for \"admin\" e a senha for \"1234\", exiba \"Login bem-sucedido\". Caso contrário, exiba \"Login falhou\".\n",
        "login = input(\"Digite seu login: \").lower() #converte em minusculo\n",
        "senha = input(\"Digite a sua senha: \")\n",
        "if login == \"admin\" and senha == \"1234\": #APENAS SE AMBAS FOREM VERDADE\n",
        "  print(\"Login realizado com sucesso!\")\n",
        "else:\n",
        "  print(\"Login mal-sucedido!\")"
      ],
      "metadata": {
        "colab": {
          "base_uri": "https://localhost:8080/"
        },
        "id": "cocjCFv_m_Po",
        "outputId": "65d7aa2c-05a4-4f0c-9107-a0613bc65f97"
      },
      "execution_count": 13,
      "outputs": [
        {
          "output_type": "stream",
          "name": "stdout",
          "text": [
            "Digite seu login: ADMIN\n",
            "Digite a sua senha: 1234\n",
            "Login realizado com sucesso!\n"
          ]
        }
      ]
    },
    {
      "cell_type": "code",
      "source": [
        "#6 - Escreva um programa que leia o ano de nascimento de uma pessoa e diga se ela pode votar este ano (considerando que o ano atual é 2024).\n",
        "from datetime import date\n",
        "ano = int(input(\"Digite o ano de seu nascimento: \"))\n",
        "idade = date.today().year - ano\n",
        "if (idade >= 16 and idade < 18) or idade >= 70:\n",
        "  print(\"Você já pode votar, mas é opcional!\")\n",
        "elif idade < 16:\n",
        "  print(\"Você ainda não pode votar!\")\n",
        "else:\n",
        "  print(\"Você pode votar!\")\n"
      ],
      "metadata": {
        "colab": {
          "base_uri": "https://localhost:8080/"
        },
        "id": "HF8Q7TjHm_SX",
        "outputId": "e67f5839-839f-464f-bf07-7fa1fe76ae3d"
      },
      "execution_count": 22,
      "outputs": [
        {
          "output_type": "stream",
          "name": "stdout",
          "text": [
            "Digite o ano de seu nascimento: 1938\n",
            "Você já pode votar, mas é opcional!\n"
          ]
        }
      ]
    },
    {
      "cell_type": "code",
      "source": [
        "#7 - Desenvolva um programa que leia a altura e o peso de uma pessoa e calcule o IMC (Índice de Massa Corporal). Se o IMC for abaixo de 18.5, exiba \"Abaixo do peso\"; se estiver entre 18.5 e 24.9, exiba \"Peso normal\"; e se for 25 ou mais, exiba \"Sobrepeso\".\n",
        "altura = float(input(\"Digite a sua altura: \"))\n",
        "peso = float(input(\"Digite o seu peso:\"))\n",
        "imc = peso / altura / altura\n",
        "if imc >= 25:\n",
        "  print(\"Sobrepeso\")\n",
        "elif imc >=18.5:\n",
        "  print(\"Peso normal\")\n",
        "else:\n",
        "  print(\"Abaixo do peso\")"
      ],
      "metadata": {
        "colab": {
          "base_uri": "https://localhost:8080/"
        },
        "id": "ctV1_JPLx3zK",
        "outputId": "5727c5cf-d874-4364-d53e-82d8fd8c375b"
      },
      "execution_count": 25,
      "outputs": [
        {
          "output_type": "stream",
          "name": "stdout",
          "text": [
            "Digite a sua altura: 1.82\n",
            "Digite o seu peso:60\n",
            "Abaixo do peso\n"
          ]
        }
      ]
    },
    {
      "cell_type": "code",
      "source": [
        "#8 -Crie um programa que pergunte a um usuário quantos anos ele tem e, com base nisso, sugira se ele deve assistir a um filme para maiores de 18 anos ou um filme infantil.\n",
        "from datetime import date\n",
        "ano = int(input(\"Digite o ano de seu nascimento: \"))\n",
        "idade = date.today().year - ano\n",
        "if idade >= 18 :\n",
        "  print(\"Você já pode ver filmes para adultos\")\n",
        "else:\n",
        "  print(\"Assista filmes infantis!\")\n"
      ],
      "metadata": {
        "id": "f7rimvHUm_XO"
      },
      "execution_count": null,
      "outputs": []
    },
    {
      "cell_type": "code",
      "source": [
        "#9 - Desenvolva um programa que leia um número inteiro e diga se ele é positivo, negativo ou zero.\n",
        "numero = int(input(\"Digite um número: \"))\n",
        "if numero == 0: #Se ele for zero\n",
        "  print(f\"O número {numero} é 0!\")\n",
        "elif numero > 0: #Se ele for positivo\n",
        "  print(f\"O número {numero} é positivo!\")\n",
        "else: #Se ele for negativo\n",
        "  print(f\"O numero {numero} é negativo!\")"
      ],
      "metadata": {
        "id": "TJG06mDhm_ea"
      },
      "execution_count": null,
      "outputs": []
    },
    {
      "cell_type": "code",
      "source": [
        "#10 - Escreva um programa que leia três números e verifique se eles podem formar um triângulo. Para que isso aconteça, a soma de dois lados deve ser sempre maior que o terceiro lado.\n",
        "ladoA = float(input(\"Digite o tamanho do lado A:\"))\n",
        "ladoB = float(input(\"Digite o tamanho do lado B:\"))\n",
        "ladoC = float(input(\"Digite o tamanho do lado C:\"))\n",
        "if (ladoA+ladoB)>ladoC or (ladoA+ladoC) > ladoB or (ladoB+ladoC)>ladoA:\n",
        "  print(\"Os lados A, B e C podem formar um triangulo\")\n",
        "else:\n",
        "  print(\"Os lados A, B e C não podem formar um triangulo\")\n"
      ],
      "metadata": {
        "colab": {
          "base_uri": "https://localhost:8080/"
        },
        "id": "zvLoJGEonPYc",
        "outputId": "2e55b2d0-a0ca-4bd3-e84e-6d05f10b05c9"
      },
      "execution_count": 30,
      "outputs": [
        {
          "output_type": "stream",
          "name": "stdout",
          "text": [
            "Digite o tamanho do lado A:0\n",
            "Digite o tamanho do lado B:0\n",
            "Digite o tamanho do lado C:0\n",
            "Os lados A, B e C não podem formar um triangulo\n"
          ]
        }
      ]
    }
  ]
}