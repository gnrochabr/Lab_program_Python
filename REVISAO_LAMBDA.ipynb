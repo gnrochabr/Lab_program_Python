{
  "nbformat": 4,
  "nbformat_minor": 0,
  "metadata": {
    "colab": {
      "provenance": [],
      "authorship_tag": "ABX9TyMHMfte9Af8+yKI9zcO3QBH",
      "include_colab_link": true
    },
    "kernelspec": {
      "name": "python3",
      "display_name": "Python 3"
    },
    "language_info": {
      "name": "python"
    }
  },
  "cells": [
    {
      "cell_type": "markdown",
      "metadata": {
        "id": "view-in-github",
        "colab_type": "text"
      },
      "source": [
        "<a href=\"https://colab.research.google.com/github/gnrochabr/Lab_program_Python/blob/main/REVISAO_LAMBDA.ipynb\" target=\"_parent\"><img src=\"https://colab.research.google.com/assets/colab-badge.svg\" alt=\"Open In Colab\"/></a>"
      ]
    },
    {
      "cell_type": "code",
      "execution_count": 25,
      "metadata": {
        "colab": {
          "base_uri": "https://localhost:8080/"
        },
        "id": "RHmE99qRX68d",
        "outputId": "5e55fa84-a8e5-4cd6-86c0-e6f3dd182d2e"
      },
      "outputs": [
        {
          "output_type": "stream",
          "name": "stdout",
          "text": [
            "[2, 4, 6, 8, 10, 12, 14, 16, 18, 20]\n",
            "[2, 4, 6, 8, 10]\n",
            "55\n",
            "10\n"
          ]
        }
      ],
      "source": [
        "from functools import reduce\n",
        "lista = [1,2,3,4,5,6,7,8,9,10]\n",
        "\n",
        "#dobro de todos os números da lista\n",
        "#dobrar todos os números da lista sem modificar o tamanho da lista\n",
        "dobrar = list(map(lambda x: x*2, lista))\n",
        "print(dobrar)\n",
        "\n",
        "#números pares\n",
        "#criar uma lista com apenas os elementos aceitos em uma determinada condição\n",
        "pares = list(filter(lambda x: x % 2 == 0, lista))\n",
        "print(pares)\n",
        "\n",
        "#soma dos elementos\n",
        "#reduzir todo os elementos a um único valor\n",
        "soma = reduce(lambda x, y: x + y, lista)\n",
        "print(soma)\n",
        "\n",
        "#maior valor da lista\n",
        "maior = reduce(lambda x,y: x if x>=y else y,lista)\n",
        "print(maior)\n"
      ]
    }
  ]
}