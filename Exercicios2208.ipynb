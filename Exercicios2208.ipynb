{
  "nbformat": 4,
  "nbformat_minor": 0,
  "metadata": {
    "colab": {
      "provenance": [],
      "authorship_tag": "ABX9TyNpXSWw91qiC8MH+sjKP7UC",
      "include_colab_link": true
    },
    "kernelspec": {
      "name": "python3",
      "display_name": "Python 3"
    },
    "language_info": {
      "name": "python"
    }
  },
  "cells": [
    {
      "cell_type": "markdown",
      "metadata": {
        "id": "view-in-github",
        "colab_type": "text"
      },
      "source": [
        "<a href=\"https://colab.research.google.com/github/gnrochabr/Lab_program_Python/blob/main/Exercicios2208.ipynb\" target=\"_parent\"><img src=\"https://colab.research.google.com/assets/colab-badge.svg\" alt=\"Open In Colab\"/></a>"
      ]
    },
    {
      "cell_type": "code",
      "execution_count": null,
      "metadata": {
        "colab": {
          "base_uri": "https://localhost:8080/"
        },
        "id": "g58Ny_0goIeL",
        "outputId": "dbd88452-8135-4748-9a34-ee5c1cca665f"
      },
      "outputs": [
        {
          "output_type": "stream",
          "name": "stdout",
          "text": [
            "Digite um valor:5\n",
            "15\n"
          ]
        }
      ],
      "source": [
        "# 1 - Calcule a soma de todos os números de 1 até n usando um loop for.\n",
        "n = int(input(\"Digite um valor:\"))\n",
        "soma = 0\n",
        "for i in range (1,n+1):\n",
        "  soma = soma+i #soma+=i\n",
        "print(soma)"
      ]
    },
    {
      "cell_type": "code",
      "source": [
        "#2 - Calcule o fatorial de um número inteiro positivo usando um loop while.\n",
        "num = int(input(\"Digite o número para fatorar: \"))\n",
        "fatorial = 1\n",
        "while num > 0:\n",
        "  fatorial = fatorial * num\n",
        "  num = num - 1\n",
        "print(fatorial)"
      ],
      "metadata": {
        "colab": {
          "base_uri": "https://localhost:8080/"
        },
        "id": "MMtlhdUFr69M",
        "outputId": "d2d86a6e-1313-4584-eaee-ac0ef86fd0c5"
      },
      "execution_count": null,
      "outputs": [
        {
          "output_type": "stream",
          "name": "stdout",
          "text": [
            "Digite o número para fatorar: 5\n",
            "120\n"
          ]
        }
      ]
    },
    {
      "cell_type": "code",
      "source": [
        "#3 - Gere a sequência de Fibonacci até o décimo termo usando um loop for.\n",
        "inicio = 0\n",
        "atual = 1\n",
        "for i in range(10):\n",
        "  print(f\"{i+1}°\",atual)\n",
        "  temp = atual\n",
        "  atual = atual + inicio\n",
        "  inicio = temp\n"
      ],
      "metadata": {
        "colab": {
          "base_uri": "https://localhost:8080/"
        },
        "id": "WrDK_MQxuNrN",
        "outputId": "7a17609c-086b-4980-fadd-d4f62fff8677"
      },
      "execution_count": null,
      "outputs": [
        {
          "output_type": "stream",
          "name": "stdout",
          "text": [
            "1° 1\n",
            "2° 1\n",
            "3° 2\n",
            "4° 3\n",
            "5° 5\n",
            "6° 8\n",
            "7° 13\n",
            "8° 21\n",
            "9° 34\n",
            "10° 55\n"
          ]
        }
      ]
    },
    {
      "cell_type": "code",
      "source": [
        "#4 - Imprima todos os números pares de 1 a 100 usando um loop for.\n",
        "for i in range(1,101):\n",
        "  if i%2==0:\n",
        "    print(i,end=\" \")"
      ],
      "metadata": {
        "colab": {
          "base_uri": "https://localhost:8080/"
        },
        "id": "PfHkJIsCvapP",
        "outputId": "3935697d-f585-48b7-f0c7-81752123725e"
      },
      "execution_count": null,
      "outputs": [
        {
          "output_type": "stream",
          "name": "stdout",
          "text": [
            "2 4 6 8 10 12 14 16 18 20 22 24 26 28 30 32 34 36 38 40 42 44 46 48 50 52 54 56 58 60 62 64 66 68 70 72 74 76 78 80 82 84 86 88 90 92 94 96 98 100 "
          ]
        }
      ]
    },
    {
      "cell_type": "code",
      "source": [
        "#5 - Calcule e exiba a média de números inseridos pelo usuário até que ele digite -1, usando um loop while.\n",
        "soma = 0\n",
        "contador = 0\n",
        "n = int(input(\"Digite um numero inteiro: \"))\n",
        "\n",
        "while n>0:\n",
        "  soma+= n\n",
        "  contador+=1\n",
        "  n = int(input(\"Digite um numero inteiro: \"))\n",
        "\n",
        "media = soma/contador\n",
        "print(media)"
      ],
      "metadata": {
        "colab": {
          "base_uri": "https://localhost:8080/"
        },
        "id": "L66Pq_ylwcfX",
        "outputId": "95831895-85f8-46cc-b738-c8fc30f8c024"
      },
      "execution_count": null,
      "outputs": [
        {
          "output_type": "stream",
          "name": "stdout",
          "text": [
            "Digite um numero inteiro: 5\n",
            "Digite um numero inteiro: 5\n",
            "Digite um numero inteiro: 5\n",
            "Digite um numero inteiro: 5\n",
            "Digite um numero inteiro: -1\n",
            "5.0\n"
          ]
        }
      ]
    },
    {
      "cell_type": "code",
      "source": [
        "#6 - Faça uma contagem regressiva até zero a partir de um número fornecido pelo usuário usando um loop while.\n",
        "i = int(input(\"Digite um valor:\"))\n",
        "while i >= 0:\n",
        "  print(i, end=\" \")\n",
        "  i-=1"
      ],
      "metadata": {
        "colab": {
          "base_uri": "https://localhost:8080/"
        },
        "id": "Phaxq35ZzaDv",
        "outputId": "a3b4b270-6faa-45c8-cf8c-41b590410895"
      },
      "execution_count": null,
      "outputs": [
        {
          "output_type": "stream",
          "name": "stdout",
          "text": [
            "Digite um valor:5\n",
            "5 4 3 2 1 0 "
          ]
        }
      ]
    },
    {
      "cell_type": "code",
      "source": [
        "#7 - Crie um jogo de adivinhação em que o usuário deve adivinhar um número entre 1 e 100, com dicas de maior ou menor, usandoum loop while.\n",
        "import random\n",
        "num_premio = random.randrange(1,100)\n",
        "while n!=num_premio:\n",
        "  n = int(input(\"Digite um numero: \"))\n",
        "  if n>num_premio:\n",
        "    print(\"É menor!\")\n",
        "  elif n<num_premio:\n",
        "    print(\"É maior!\")\n",
        "  else:\n",
        "    print(\"Você acertou\")"
      ],
      "metadata": {
        "colab": {
          "base_uri": "https://localhost:8080/"
        },
        "id": "wUx5iqH80CPo",
        "outputId": "94c03e05-5141-445b-8ca2-10c5c3742a6d"
      },
      "execution_count": null,
      "outputs": [
        {
          "output_type": "stream",
          "name": "stdout",
          "text": [
            "Digite um numero: 1\n",
            "É maior!\n",
            "Digite um numero: 50\n",
            "É maior!\n",
            "Digite um numero: 90\n",
            "É menor!\n",
            "Digite um numero: 80\n",
            "É menor!\n",
            "Digite um numero: 60\n",
            "É maior!\n",
            "Digite um numero: 65\n",
            "É maior!\n",
            "Digite um numero: 75\n",
            "É maior!\n",
            "Digite um numero: 80\n",
            "É menor!\n",
            "Digite um numero: 78\n",
            "É menor!\n",
            "Digite um numero: 75\n",
            "É maior!\n",
            "Digite um numero: 76\n",
            "Você acertou\n"
          ]
        }
      ]
    },
    {
      "cell_type": "code",
      "source": [
        "#8 - Calcule a soma de todos os dígitos de um número inteiro usando um loop while.\n",
        "num = int(input(\"Digite um numero: \"))\n",
        "soma = 0\n",
        "while num > 0:\n",
        "  div = num%10\n",
        "  num//=10\n",
        "  soma+=div\n",
        "print(soma)"
      ],
      "metadata": {
        "colab": {
          "base_uri": "https://localhost:8080/"
        },
        "id": "t4EjjAL72_MX",
        "outputId": "a5525cba-9bd7-41fa-dedb-c38d6c08c538"
      },
      "execution_count": null,
      "outputs": [
        {
          "output_type": "stream",
          "name": "stdout",
          "text": [
            "Digite um numero536\n",
            "14\n"
          ]
        }
      ]
    },
    {
      "cell_type": "code",
      "source": [
        "# 9 - Verifique se um número é primo usando um loop for\n",
        "num = int(input(\"Digite um numero\"))\n",
        "cont = 0\n",
        "for i in range(1,num):\n",
        "  if num%i==0:\n",
        "    cont+=1\n",
        "if cont<2:\n",
        "  print(\"Primo\")\n",
        "else:\n",
        "  print(\"Não primo\")"
      ],
      "metadata": {
        "colab": {
          "base_uri": "https://localhost:8080/"
        },
        "id": "bMCzsmsP40Fw",
        "outputId": "f37972c1-627a-4aae-f250-aeb7fe4300da"
      },
      "execution_count": null,
      "outputs": [
        {
          "output_type": "stream",
          "name": "stdout",
          "text": [
            "Digite um numero4\n",
            "Não primo\n"
          ]
        }
      ]
    },
    {
      "cell_type": "code",
      "source": [
        "num = int(input(\"Digite um numero: \"))\n",
        "for i in range(1,num+1):\n",
        "  for j in range(i):\n",
        "    print(\"*\",end=\"\")\n",
        "  print(end=\"\\n\")"
      ],
      "metadata": {
        "colab": {
          "base_uri": "https://localhost:8080/"
        },
        "id": "A46tkXS45g3Z",
        "outputId": "b94f443e-9ebf-495d-884f-ee21581575c8"
      },
      "execution_count": null,
      "outputs": [
        {
          "output_type": "stream",
          "name": "stdout",
          "text": [
            "Digite um numero: 10\n",
            "*\n",
            "**\n",
            "***\n",
            "****\n",
            "*****\n",
            "******\n",
            "*******\n",
            "********\n",
            "*********\n",
            "**********\n"
          ]
        }
      ]
    }
  ]
}