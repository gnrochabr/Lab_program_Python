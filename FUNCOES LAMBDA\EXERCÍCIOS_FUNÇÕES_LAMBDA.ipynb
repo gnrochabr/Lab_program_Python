{
  "nbformat": 4,
  "nbformat_minor": 0,
  "metadata": {
    "colab": {
      "provenance": [],
      "authorship_tag": "ABX9TyO8Ex/QUA91+XtpjZqOnryU",
      "include_colab_link": true
    },
    "kernelspec": {
      "name": "python3",
      "display_name": "Python 3"
    },
    "language_info": {
      "name": "python"
    }
  },
  "cells": [
    {
      "cell_type": "markdown",
      "metadata": {
        "id": "view-in-github",
        "colab_type": "text"
      },
      "source": [
        "<a href=\"https://colab.research.google.com/github/gnrochabr/Lab_program_Python/blob/main/FUNCOES%20LAMBDA%5CEXERC%C3%8DCIOS_FUN%C3%87%C3%95ES_LAMBDA.ipynb\" target=\"_parent\"><img src=\"https://colab.research.google.com/assets/colab-badge.svg\" alt=\"Open In Colab\"/></a>"
      ]
    },
    {
      "cell_type": "code",
      "execution_count": 4,
      "metadata": {
        "colab": {
          "base_uri": "https://localhost:8080/"
        },
        "id": "LYKauDDG4cug",
        "outputId": "a0790e3b-e62c-4487-bf57-a7b3d3421665"
      },
      "outputs": [
        {
          "output_type": "stream",
          "name": "stdout",
          "text": [
            "Digite o nomeGG\n",
            "Digite a cidadeVV\n",
            "olá GG! Você vive em VV!\n"
          ]
        }
      ],
      "source": [
        "#1 - Crie uma função Lambda para que o usuário digite o seu nome e a sua cidade. O programa deve exibir \"Olá, [nome]! Você vive em [cidade].“\n",
        "nome = input('Digite o seu nome: ')\n",
        "cidade = input('Digite a sua cidade: ')\n",
        "frase = lambda x,y:(f\"olá {x}! Você vive em {y}!\")\n",
        "print(frase(nome,cidade))"
      ]
    },
    {
      "cell_type": "code",
      "source": [
        "#2 - Crie uma função Lambda para que o usuário digite o comprimento e a largura de um retângulo. O programa deve exibir a área e o perímetro do retângulo.\n",
        "comprimento = float(input('Comprimento: '))\n",
        "largura = float(input('Largura: '))\n",
        "area = lambda x,y: x*y\n",
        "perimetro = lambda x,y: (2*x)+(2*y)\n",
        "print(f'Área: {area(comprimento,largura):.2f}m² e Perimetro: {perimetro(comprimento,largura):.2f}m')"
      ],
      "metadata": {
        "colab": {
          "base_uri": "https://localhost:8080/"
        },
        "id": "PGSeoVle7Fm3",
        "outputId": "eafe2922-bd90-4dcc-ac59-7f06d651764d"
      },
      "execution_count": 6,
      "outputs": [
        {
          "output_type": "stream",
          "name": "stdout",
          "text": [
            "Comprimento: 10.5\n",
            "Largura: 8.76\n",
            "Área: 91.98 e Perimetro: 38.52\n"
          ]
        }
      ]
    },
    {
      "cell_type": "code",
      "source": [
        "#3 - Crie uma função Lambda para que o usuário digite uma medida em metros. O programa deve converter essa medida para centímetros e milímetros e exibir o resultado.\n",
        "metros = float(input(\"Digite a medida em metros: \"))\n",
        "cm = lambda x: x*100\n",
        "mm = lambda x: cm(x)*10\n",
        "print(f'Centimentros: {cm(metros)}cm e Milimetros: {mm(metros)}mm')"
      ],
      "metadata": {
        "colab": {
          "base_uri": "https://localhost:8080/"
        },
        "id": "YlJpIX3d7ifq",
        "outputId": "adfe798b-5b14-4bc0-c6a6-f1a78f88ba9c"
      },
      "execution_count": 8,
      "outputs": [
        {
          "output_type": "stream",
          "name": "stdout",
          "text": [
            "Digite a medida em metros: 67\n",
            "Centimentros: 6700.0cm e Milimetros: 67000.0mm\n"
          ]
        }
      ]
    },
    {
      "cell_type": "code",
      "source": [
        "#4 - Crie uma função Lambda para que o usuário digite a largura e a altura de um retângulo. O programa deve calcular e exibir a área do retângulo.base = float(input(\"Digite o tamanho da base do retangulo (cm):\"))\n",
        "base = float(input('Comprimento: '))\n",
        "altura = float(input('Largura: '))\n",
        "area = lambda x,y: x*y\n",
        "print(f'Área: {area(base,altura):.2f}cm²')"
      ],
      "metadata": {
        "id": "aS3ji5rs8WQU"
      },
      "execution_count": null,
      "outputs": []
    },
    {
      "cell_type": "code",
      "source": [
        "#5 - Crie uma função Lambda para que o usuário digite as idades de duas pessoas. O programa deve exibir se as idades são iguais ou diferentes.\n",
        "idadeA = int(input('Primeira idade: '))\n",
        "idadeB = int(input('Segunda idade: '))\n",
        "idades = lambda x,y: 'igual' if x == y else 'diferente'\n",
        "print(idades(idadeA,idadeB))\n"
      ],
      "metadata": {
        "colab": {
          "base_uri": "https://localhost:8080/"
        },
        "id": "Z14YX2eZ87nv",
        "outputId": "1dee7bc9-044d-4b1f-863b-7eaa031fc8b6"
      },
      "execution_count": 10,
      "outputs": [
        {
          "output_type": "stream",
          "name": "stdout",
          "text": [
            "Primeira idade: 9\n",
            "Segunda idade: 10\n",
            "diferente\n"
          ]
        }
      ]
    },
    {
      "cell_type": "code",
      "source": [
        "#6 - Crie uma função Lambda para que o usuário digite seu peso (em kg) e sua altura (em metros). O programa deve calcular e exibir o Índice de Massa Corporal (IMC).\n",
        "peso = float(input('Digite seu peso(KG): '))\n",
        "altura = float(input('Digite sua altura(metros): '))\n",
        "imc = lambda x,y: x/(y**2)\n",
        "print(f'{imc(peso,altura):.2f}')\n",
        "\n"
      ],
      "metadata": {
        "colab": {
          "base_uri": "https://localhost:8080/"
        },
        "id": "y6GujxMa9Aa5",
        "outputId": "98fbdde7-bc0f-4e6e-e056-f8230c7c3e2f"
      },
      "execution_count": 13,
      "outputs": [
        {
          "output_type": "stream",
          "name": "stdout",
          "text": [
            "Digite seu peso(KG): 115\n",
            "Digite sua altura(metros): 1.82\n",
            "34.72\n"
          ]
        }
      ]
    },
    {
      "cell_type": "code",
      "source": [
        "#7 - Crie uma função Lambda para que o usuário digite dois números. O programa deve exibir se o primeiro número é maior, menor ou igual ao segundo número.\n",
        "numA = int(input('Primeiro número: '))\n",
        "numB = int(input('Segundo número: '))\n",
        "numeros = lambda x,y: 'igual' if x == y else 'x é maior' if x>y else 'x é menor'\n",
        "print(numeros(numA,numB))\n"
      ],
      "metadata": {
        "colab": {
          "base_uri": "https://localhost:8080/"
        },
        "id": "ylFsOQJ89ByX",
        "outputId": "f4adba19-0fea-4ba2-abef-f7c4e8bab41a"
      },
      "execution_count": 16,
      "outputs": [
        {
          "output_type": "stream",
          "name": "stdout",
          "text": [
            "Primeiro número: 9\n",
            "Segundo número: 10\n",
            "x é menor\n"
          ]
        }
      ]
    },
    {
      "cell_type": "code",
      "source": [
        "#8 - Crie uma função Lambda para que o usuário digite três números. O programa deve calcular e exibir a média aritmética desses números.\n",
        "numA = int(input('Primeiro número: '))\n",
        "numB = int(input('Segundo número: '))\n",
        "numC = int(input('Terceiro número: '))\n",
        "media = lambda x,y,z:(x+y+z)/3\n",
        "print(f'A média é: {media(numA,numB,numC):.2f}')\n"
      ],
      "metadata": {
        "colab": {
          "base_uri": "https://localhost:8080/"
        },
        "id": "l-LKIR999DUB",
        "outputId": "e83b20e1-dc5b-422c-8317-04574a7d7602"
      },
      "execution_count": 17,
      "outputs": [
        {
          "output_type": "stream",
          "name": "stdout",
          "text": [
            "Primeiro número: 10\n",
            "Segundo número: 9\n",
            "Terceiro número: 8\n",
            "A média é: 9.0\n"
          ]
        }
      ]
    },
    {
      "cell_type": "code",
      "source": [
        "#9 - Crie uma função Lambda para que o usuário digite o raio e a altura de um cilindro. O programa deve calcular e exibir o volume do cilindro.\n",
        "from math import pi\n",
        "raio = float(input('Raio (cm): '))\n",
        "altura = float(input('Altura (cm): '))\n",
        "volume = lambda x,y: ((pi*x)**2)*y\n",
        "print(f'Volume: {volume(raio,altura):.2f} cm³')\n"
      ],
      "metadata": {
        "colab": {
          "base_uri": "https://localhost:8080/"
        },
        "id": "1zKJFKHm9EwV",
        "outputId": "a6d86bc8-c0ce-47b7-f4f4-207707364264"
      },
      "execution_count": 19,
      "outputs": [
        {
          "output_type": "stream",
          "name": "stdout",
          "text": [
            "Raio (cm): 10\n",
            "Altura (cm): 3\n",
            "Volume: 2960.88 cm³\n"
          ]
        }
      ]
    },
    {
      "cell_type": "code",
      "source": [
        "#10 - Crie uma função Lambda para que o usuário digite duas palavras. O programa deve exibir se as palavras são iguais ou diferentes.\n",
        "wordA = input('Primeira palavra: ')\n",
        "wordB = input('Segunda palavra: ')\n",
        "palavras = lambda x,y: 'igual' if x == y else 'diferente'\n",
        "print(palavras(wordA,wordB))\n"
      ],
      "metadata": {
        "colab": {
          "base_uri": "https://localhost:8080/"
        },
        "id": "2n55MEjp9GnU",
        "outputId": "51f59cfd-ef5d-4e98-ce7e-2be9d8558159"
      },
      "execution_count": 20,
      "outputs": [
        {
          "output_type": "stream",
          "name": "stdout",
          "text": [
            "Primeira palavra: Raio\n",
            "Segunda palavra: Trovão\n",
            "diferente\n"
          ]
        }
      ]
    }
  ]
}