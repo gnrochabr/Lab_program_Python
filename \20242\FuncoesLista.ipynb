{
  "nbformat": 4,
  "nbformat_minor": 0,
  "metadata": {
    "colab": {
      "provenance": [],
      "authorship_tag": "ABX9TyNYJw5ZFXTgr+pOv/aSiapF",
      "include_colab_link": true
    },
    "kernelspec": {
      "name": "python3",
      "display_name": "Python 3"
    },
    "language_info": {
      "name": "python"
    }
  },
  "cells": [
    {
      "cell_type": "markdown",
      "metadata": {
        "id": "view-in-github",
        "colab_type": "text"
      },
      "source": [
        "<a href=\"https://colab.research.google.com/github/gnrochabr/Lab_program_Python/blob/main/%5C20242%5CFuncoesLista.ipynb\" target=\"_parent\"><img src=\"https://colab.research.google.com/assets/colab-badge.svg\" alt=\"Open In Colab\"/></a>"
      ]
    },
    {
      "cell_type": "code",
      "execution_count": null,
      "metadata": {
        "id": "zvlFtFVbfgsf"
      },
      "outputs": [],
      "source": [
        "# 1. Crie uma lista com os números de 1 a 10. Acesse o primeiro e o último elemento da lista e imprima-os.\n",
        "lista1 = list(range(1, 11))\n",
        "print(\"1. Primeiro elemento:\", lista1[0])\n",
        "print(\"1. Último elemento:\", lista1[-1])"
      ]
    },
    {
      "cell_type": "code",
      "source": [
        "# 2. Crie uma lista vazia e adicione os números 1, 2, e 3. Insira 0 no início e 4 na posição 4.\n",
        "lista2 = []\n",
        "lista2.extend([1, 2, 3])\n",
        "lista2.insert(0, 0)  # Inserindo 0 no início\n",
        "lista2.insert(4, 4)  # Inserindo 4 na posição 4\n",
        "print(\"\\n2. Lista final:\", lista2)\n",
        "\n"
      ],
      "metadata": {
        "id": "bqtof2uSflJU"
      },
      "execution_count": null,
      "outputs": []
    },
    {
      "cell_type": "code",
      "source": [
        "#3. Crie uma lista com os elementos ['maçã', 'banana', 'laranja', 'uva', 'maçã']. Remova a primeira ocorrência de \"maçã\" e depois remova o último elemento da lista. Imprima a lista resultante.\n",
        "lista3 = ['maçã', 'banana', 'laranja', 'uva', 'maçã']\n",
        "lista3.remove('maçã')  # Remove a primeira \"maçã\"\n",
        "lista3.pop()  # Remove o último elemento\n",
        "print(\"\\n3. Lista resultante:\", lista3)\n"
      ],
      "metadata": {
        "id": "D5IAz7vAfpQg"
      },
      "execution_count": null,
      "outputs": []
    },
    {
      "cell_type": "code",
      "source": [
        "#4. Dada a lista ['a', 'b', 'a', 'c', 'a', 'b'], conte quantas vezes o valor 'a' aparece na lista e imprima o resultado.\n",
        "lista4 = ['a', 'b', 'a', 'c', 'a', 'b']\n",
        "contagem_a = lista4.count('a')\n",
        "print(\"\\n4. O valor 'a' aparece:\", contagem_a, \"vezes\")"
      ],
      "metadata": {
        "id": "G5B0rn3HfsYP"
      },
      "execution_count": null,
      "outputs": []
    },
    {
      "cell_type": "code",
      "source": [
        "#5. Crie uma lista com os números [5, 3, 9, 1, 7]. Ordene a lista em ordem crescente e depois em ordem decrescente. Imprima ambas as listas.\n",
        "lista5 = [5, 3, 9, 1, 7]\n",
        "lista5_crescente = sorted(lista5)\n",
        "lista5_decrescente = sorted(lista5, reverse=True)\n",
        "print(\"\\n5. Ordem crescente:\", lista5_crescente)\n",
        "print(\"5. Ordem decrescente:\", lista5_decrescente)\n"
      ],
      "metadata": {
        "id": "ZOYINJojfsmP"
      },
      "execution_count": null,
      "outputs": []
    },
    {
      "cell_type": "code",
      "source": [
        "#6. Crie uma lista com os números [15, 23, 4, 42, 8]. Encontre e imprima o maior e o menor valor da lista.\n",
        "lista6 = [15, 23, 4, 42, 8]\n",
        "maior_valor = max(lista6)\n",
        "menor_valor = min(lista6)\n",
        "print(\"\\n6. Maior valor:\", maior_valor)\n",
        "print(\"6. Menor valor:\", menor_valor)"
      ],
      "metadata": {
        "id": "f9b6ZYabfspP"
      },
      "execution_count": null,
      "outputs": []
    },
    {
      "cell_type": "code",
      "source": [
        "#7. Dada a lista [10, 20, 30, 40, 50], verifique se o número 25 está presente na lista. Imprima uma mensagem dizendo se o número foi encontrado ou não.\n",
        "lista7 = [10, 20, 30, 40, 50]\n",
        "if 25 in lista7:\n",
        "    print(\"\\n7. O número 25 foi encontrado na lista.\")\n",
        "else:\n",
        "    print(\"\\n7. O número 25 não foi encontrado na lista.\")"
      ],
      "metadata": {
        "id": "vJc1S_T1fss3"
      },
      "execution_count": null,
      "outputs": []
    },
    {
      "cell_type": "code",
      "source": [
        "#8. Crie uma lista com os números [1, 2, 3, 4, 5]. Calcule e imprima a soma de todos os elementos da lista.\n",
        "lista8 = [1, 2, 3, 4, 5]\n",
        "soma_lista8 = sum(lista8)\n",
        "print(\"\\n8. A soma de todos os elementos da lista é:\", soma_lista8)"
      ],
      "metadata": {
        "id": "DbKG_mfUfsvq"
      },
      "execution_count": null,
      "outputs": []
    },
    {
      "cell_type": "code",
      "source": [
        "#9. Crie uma lista contendo os quadrados dos números de 1 a 10 usando list comprehension. Imprima a lista resultante.\n",
        "lista9 = [x**2 for x in range(1, 11)]\n",
        "print(\"\\n9. Lista com os quadrados de 1 a 10:\", lista9)\n"
      ],
      "metadata": {
        "id": "n6OQT4cUfsyV"
      },
      "execution_count": null,
      "outputs": []
    },
    {
      "cell_type": "code",
      "source": [
        "#10. Dada a lista [10, 15, 20, 25, 30, 35, 40], crie uma nova lista contendo apenas os números pares. Use list comprehension para isso. Imprima a lista final.\n",
        "lista = [10, 15, 20, 25, 30, 35, 40]\n",
        "lista_pares = [num for num in lista if num % 2 == 0]\n",
        "print(lista_pares)\n",
        "\n",
        "\n",
        "\n",
        "\n"
      ],
      "metadata": {
        "colab": {
          "base_uri": "https://localhost:8080/"
        },
        "id": "qie_CoBZfs1N",
        "outputId": "bfa293b1-7e10-4fe1-c262-239742eb4361"
      },
      "execution_count": null,
      "outputs": [
        {
          "output_type": "stream",
          "name": "stdout",
          "text": [
            "[10, 20, 30, 40]\n"
          ]
        }
      ]
    },
    {
      "cell_type": "code",
      "source": [],
      "metadata": {
        "id": "CwoSTPO7fs4K"
      },
      "execution_count": null,
      "outputs": []
    }
  ]
}